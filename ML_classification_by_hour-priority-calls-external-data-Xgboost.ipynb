{
 "cells": [
  {
   "cell_type": "code",
   "execution_count": 3,
   "metadata": {
    "collapsed": false
   },
   "outputs": [],
   "source": [
    "import numpy as np\n",
    "import pandas as pd\n",
    "import matplotlib.pyplot as plt\n",
    "%matplotlib inline\n",
    "import IPython.core.pylabtools as pylabtools # for figsize\n",
    "import seaborn as sns\n",
    "\n",
    "\n",
    "\n",
    "def mask_data(data,*args):\n",
    "    mask_and=np.array(args).all(0)\n",
    "    return data[mask_and]"
   ]
  },
  {
   "cell_type": "markdown",
   "metadata": {},
   "source": [
    "## Start running from here"
   ]
  },
  {
   "cell_type": "code",
   "execution_count": 4,
   "metadata": {
    "collapsed": false
   },
   "outputs": [
    {
     "data": {
      "text/html": [
       "<div>\n",
       "<table border=\"1\" class=\"dataframe\">\n",
       "  <thead>\n",
       "    <tr style=\"text-align: right;\">\n",
       "      <th></th>\n",
       "      <th>delta_time</th>\n",
       "      <th>date</th>\n",
       "      <th>month</th>\n",
       "      <th>day</th>\n",
       "      <th>time_bin</th>\n",
       "      <th>delta_date</th>\n",
       "      <th>total</th>\n",
       "      <th>number_ambulances_engaged</th>\n",
       "      <th>total_calls</th>\n",
       "    </tr>\n",
       "  </thead>\n",
       "  <tbody>\n",
       "    <tr>\n",
       "      <th>0</th>\n",
       "      <td>0</td>\n",
       "      <td>2004-01-01</td>\n",
       "      <td>1</td>\n",
       "      <td>3</td>\n",
       "      <td>0</td>\n",
       "      <td>0</td>\n",
       "      <td>6</td>\n",
       "      <td>6</td>\n",
       "      <td>6</td>\n",
       "    </tr>\n",
       "    <tr>\n",
       "      <th>1</th>\n",
       "      <td>1</td>\n",
       "      <td>2004-01-01</td>\n",
       "      <td>1</td>\n",
       "      <td>3</td>\n",
       "      <td>1</td>\n",
       "      <td>0</td>\n",
       "      <td>6</td>\n",
       "      <td>9</td>\n",
       "      <td>6</td>\n",
       "    </tr>\n",
       "    <tr>\n",
       "      <th>2</th>\n",
       "      <td>2</td>\n",
       "      <td>2004-01-01</td>\n",
       "      <td>1</td>\n",
       "      <td>3</td>\n",
       "      <td>2</td>\n",
       "      <td>0</td>\n",
       "      <td>2</td>\n",
       "      <td>3</td>\n",
       "      <td>2</td>\n",
       "    </tr>\n",
       "    <tr>\n",
       "      <th>3</th>\n",
       "      <td>3</td>\n",
       "      <td>2004-01-01</td>\n",
       "      <td>1</td>\n",
       "      <td>3</td>\n",
       "      <td>3</td>\n",
       "      <td>0</td>\n",
       "      <td>3</td>\n",
       "      <td>3</td>\n",
       "      <td>3</td>\n",
       "    </tr>\n",
       "    <tr>\n",
       "      <th>4</th>\n",
       "      <td>4</td>\n",
       "      <td>2004-01-01</td>\n",
       "      <td>1</td>\n",
       "      <td>3</td>\n",
       "      <td>4</td>\n",
       "      <td>0</td>\n",
       "      <td>2</td>\n",
       "      <td>2</td>\n",
       "      <td>2</td>\n",
       "    </tr>\n",
       "  </tbody>\n",
       "</table>\n",
       "</div>"
      ],
      "text/plain": [
       "   delta_time        date  month  day  time_bin  delta_date  total  \\\n",
       "0           0  2004-01-01      1    3         0           0      6   \n",
       "1           1  2004-01-01      1    3         1           0      6   \n",
       "2           2  2004-01-01      1    3         2           0      2   \n",
       "3           3  2004-01-01      1    3         3           0      3   \n",
       "4           4  2004-01-01      1    3         4           0      2   \n",
       "\n",
       "   number_ambulances_engaged  total_calls  \n",
       "0                          6            6  \n",
       "1                          9            6  \n",
       "2                          3            2  \n",
       "3                          3            3  \n",
       "4                          2            2  "
      ]
     },
     "execution_count": 4,
     "metadata": {},
     "output_type": "execute_result"
    }
   ],
   "source": [
    "nd=pd.read_csv(\"classification_by_hour_data_priority_3.csv\")\n",
    "nd.head()"
   ]
  },
  {
   "cell_type": "code",
   "execution_count": 5,
   "metadata": {
    "collapsed": false
   },
   "outputs": [],
   "source": [
    "# these two lines do nothign but since the variables beneath use these names and I didnt want to go back and change\n",
    "# stuff I keep them\n",
    "\n",
    "nd['total']=nd.number_ambulances_engaged # if we want total_calls change this to total calls\n",
    "nd.drop(['delta_date','number_ambulances_engaged','total_calls'],axis=1,inplace=True)"
   ]
  },
  {
   "cell_type": "code",
   "execution_count": 6,
   "metadata": {
    "collapsed": false
   },
   "outputs": [
    {
     "data": {
      "text/plain": [
       "<matplotlib.legend.Legend at 0x103f94450>"
      ]
     },
     "execution_count": 6,
     "metadata": {},
     "output_type": "execute_result"
    },
    {
     "data": {
      "image/png": "[encoded data removed]",
      "text/plain": [
       "<matplotlib.figure.Figure at 0x103f3c410>"
      ]
     },
     "metadata": {},
     "output_type": "display_data"
    }
   ],
   "source": [
    "# we plot the behavior of mean number of calls by the hour for weekdays and months\n",
    "\n",
    "pylabtools.figsize(15,5)\n",
    "plt.subplot(121)\n",
    "nd_mean=nd.groupby(['day','time_bin']).mean().reset_index().drop('month',axis=1)\n",
    "for i in range(7):\n",
    "    data_masked=mask_data(nd_mean,nd_mean.day==i)\n",
    "    plt.plot(data_masked.time_bin,data_masked.total,\"-o\",label=\"day \"+str(i))\n",
    "plt.title(\"mean number of calls per hour for different days of week\")\n",
    "plt.legend()\n",
    "\n",
    "plt.subplot(122)\n",
    "nd_mean=nd.groupby(['month','time_bin']).mean().reset_index().drop('day',axis=1)\n",
    "for i in range(1,13):\n",
    "    data_masked=mask_data(nd_mean,nd_mean.month==i)\n",
    "    plt.plot(data_masked.time_bin,data_masked.total,\"-o\",label=\"month \"+str(i))\n",
    "plt.title(\"mean number of calls per hour for different months\")\n",
    "plt.legend()"
   ]
  },
  {
   "cell_type": "code",
   "execution_count": 7,
   "metadata": {
    "collapsed": true
   },
   "outputs": [],
   "source": [
    "special_days_data=pd.read_csv('special_days_by_hour.csv')"
   ]
  },
  {
   "cell_type": "code",
   "execution_count": 8,
   "metadata": {
    "collapsed": false
   },
   "outputs": [],
   "source": [
    "special_days_data['delta_time']=special_days_data.index"
   ]
  },
  {
   "cell_type": "code",
   "execution_count": 9,
   "metadata": {
    "collapsed": false
   },
   "outputs": [
    {
     "data": {
      "text/html": [
       "<div>\n",
       "<table border=\"1\" class=\"dataframe\">\n",
       "  <thead>\n",
       "    <tr style=\"text-align: right;\">\n",
       "      <th></th>\n",
       "      <th>special_day</th>\n",
       "      <th>delta_time</th>\n",
       "    </tr>\n",
       "  </thead>\n",
       "  <tbody>\n",
       "    <tr>\n",
       "      <th>0</th>\n",
       "      <td>True</td>\n",
       "      <td>0</td>\n",
       "    </tr>\n",
       "    <tr>\n",
       "      <th>1</th>\n",
       "      <td>True</td>\n",
       "      <td>1</td>\n",
       "    </tr>\n",
       "    <tr>\n",
       "      <th>2</th>\n",
       "      <td>True</td>\n",
       "      <td>2</td>\n",
       "    </tr>\n",
       "    <tr>\n",
       "      <th>3</th>\n",
       "      <td>True</td>\n",
       "      <td>3</td>\n",
       "    </tr>\n",
       "    <tr>\n",
       "      <th>4</th>\n",
       "      <td>True</td>\n",
       "      <td>4</td>\n",
       "    </tr>\n",
       "  </tbody>\n",
       "</table>\n",
       "</div>"
      ],
      "text/plain": [
       "  special_day  delta_time\n",
       "0        True           0\n",
       "1        True           1\n",
       "2        True           2\n",
       "3        True           3\n",
       "4        True           4"
      ]
     },
     "execution_count": 9,
     "metadata": {},
     "output_type": "execute_result"
    }
   ],
   "source": [
    "special_days_data.drop('date',axis=1,inplace=True)\n",
    "special_days_data.head()\n"
   ]
  },
  {
   "cell_type": "code",
   "execution_count": 10,
   "metadata": {
    "collapsed": false
   },
   "outputs": [],
   "source": [
    "special_days_data.special_day=pd.factorize(special_days_data.special_day)[0]"
   ]
  },
  {
   "cell_type": "code",
   "execution_count": 11,
   "metadata": {
    "collapsed": true
   },
   "outputs": [],
   "source": [
    "nd_merged=nd.merge(special_days_data,left_on='delta_time',right_on='delta_time')"
   ]
  },
  {
   "cell_type": "code",
   "execution_count": 12,
   "metadata": {
    "collapsed": false
   },
   "outputs": [
    {
     "data": {
      "text/html": [
       "<div>\n",
       "<table border=\"1\" class=\"dataframe\">\n",
       "  <thead>\n",
       "    <tr style=\"text-align: right;\">\n",
       "      <th></th>\n",
       "      <th>delta_time</th>\n",
       "      <th>date</th>\n",
       "      <th>month</th>\n",
       "      <th>day</th>\n",
       "      <th>time_bin</th>\n",
       "      <th>total</th>\n",
       "      <th>special_day</th>\n",
       "    </tr>\n",
       "  </thead>\n",
       "  <tbody>\n",
       "    <tr>\n",
       "      <th>0</th>\n",
       "      <td>0</td>\n",
       "      <td>2004-01-01</td>\n",
       "      <td>1</td>\n",
       "      <td>3</td>\n",
       "      <td>0</td>\n",
       "      <td>6</td>\n",
       "      <td>0</td>\n",
       "    </tr>\n",
       "    <tr>\n",
       "      <th>1</th>\n",
       "      <td>1</td>\n",
       "      <td>2004-01-01</td>\n",
       "      <td>1</td>\n",
       "      <td>3</td>\n",
       "      <td>1</td>\n",
       "      <td>9</td>\n",
       "      <td>0</td>\n",
       "    </tr>\n",
       "    <tr>\n",
       "      <th>2</th>\n",
       "      <td>2</td>\n",
       "      <td>2004-01-01</td>\n",
       "      <td>1</td>\n",
       "      <td>3</td>\n",
       "      <td>2</td>\n",
       "      <td>3</td>\n",
       "      <td>0</td>\n",
       "    </tr>\n",
       "    <tr>\n",
       "      <th>3</th>\n",
       "      <td>3</td>\n",
       "      <td>2004-01-01</td>\n",
       "      <td>1</td>\n",
       "      <td>3</td>\n",
       "      <td>3</td>\n",
       "      <td>3</td>\n",
       "      <td>0</td>\n",
       "    </tr>\n",
       "    <tr>\n",
       "      <th>4</th>\n",
       "      <td>4</td>\n",
       "      <td>2004-01-01</td>\n",
       "      <td>1</td>\n",
       "      <td>3</td>\n",
       "      <td>4</td>\n",
       "      <td>2</td>\n",
       "      <td>0</td>\n",
       "    </tr>\n",
       "  </tbody>\n",
       "</table>\n",
       "</div>"
      ],
      "text/plain": [
       "   delta_time        date  month  day  time_bin  total  special_day\n",
       "0           0  2004-01-01      1    3         0      6            0\n",
       "1           1  2004-01-01      1    3         1      9            0\n",
       "2           2  2004-01-01      1    3         2      3            0\n",
       "3           3  2004-01-01      1    3         3      3            0\n",
       "4           4  2004-01-01      1    3         4      2            0"
      ]
     },
     "execution_count": 12,
     "metadata": {},
     "output_type": "execute_result"
    }
   ],
   "source": [
    "nd_merged.head()"
   ]
  },
  {
   "cell_type": "code",
   "execution_count": 13,
   "metadata": {
    "collapsed": false
   },
   "outputs": [],
   "source": [
    "weather_data=pd.read_csv('all_weather_temp.csv')\n",
    "\n",
    "m=weather_data[weather_data.temperature != \"--\"].temperature.astype(float).mean()\n",
    "weather_data.loc[weather_data.temperature == \"--\",'temperature']=m\n",
    "weather_data.temperature=weather_data.temperature.astype(float)"
   ]
  },
  {
   "cell_type": "code",
   "execution_count": 14,
   "metadata": {
    "collapsed": false
   },
   "outputs": [],
   "source": [
    "weather_data=pd.read_csv('all_weather_vars_clean.csv')"
   ]
  },
  {
   "cell_type": "code",
   "execution_count": 15,
   "metadata": {
    "collapsed": true
   },
   "outputs": [],
   "source": [
    "nd_merged=nd_merged.merge(weather_data,left_on='delta_time',right_on='hour')"
   ]
  },
  {
   "cell_type": "code",
   "execution_count": 16,
   "metadata": {
    "collapsed": false
   },
   "outputs": [],
   "source": [
    "cond1=np.array([nd_merged.total.values>13,nd_merged.time_bin.values>=7,nd_merged.time_bin.values<19]).all(0)\n",
    "cond2=np.array([nd_merged.total.values>9,nd_merged.time_bin.values<7]).all(0)\n",
    "cond3=np.array([nd_merged.total.values>9,nd_merged.time_bin.values>=19]).all(0)\n",
    "combined_condition=np.array([cond1,cond2,cond3]).any(0)"
   ]
  },
  {
   "cell_type": "code",
   "execution_count": 17,
   "metadata": {
    "collapsed": false
   },
   "outputs": [
    {
     "data": {
      "text/plain": [
       "<matplotlib.axes._subplots.AxesSubplot at 0x10af05f10>"
      ]
     },
     "execution_count": 17,
     "metadata": {},
     "output_type": "execute_result"
    },
    {
     "data": {
      "image/png": "[encoded data removed]",
      "text/plain": [
       "<matplotlib.figure.Figure at 0x10cd24ed0>"
      ]
     },
     "metadata": {},
     "output_type": "display_data"
    }
   ],
   "source": [
    "\n",
    "# another approach would be to ask if there is some persistance in the hours that see above average and those that see belo\n",
    "# this would be some ising model like clumpign of spins\n",
    "# we will try this\n",
    "\n",
    "\n",
    "nd_merged['busy']=(combined_condition).astype(int)\n",
    "\n",
    "# this gives about 15% of the days busy. if this doesn't 'feel' right we can reduce the threshold to increase\n",
    "# the number of days classified as busy\n",
    "nd_merged['busy'].hist(normed='True')"
   ]
  },
  {
   "cell_type": "code",
   "execution_count": 18,
   "metadata": {
    "collapsed": false,
    "scrolled": true
   },
   "outputs": [
    {
     "data": {
      "text/plain": [
       "<matplotlib.text.Text at 0x10d69aad0>"
      ]
     },
     "execution_count": 18,
     "metadata": {},
     "output_type": "execute_result"
    },
    {
     "data": {
      "image/png": "[encoded data removed]",
      "text/plain": [
       "<matplotlib.figure.Figure at 0x10cd91a90>"
      ]
     },
     "metadata": {},
     "output_type": "display_data"
    }
   ],
   "source": [
    "# Now we can test Niquille's intuition. He seems to claim busy hours come in chunks. That should mean that there\n",
    "# should be correlations over the first few hours. However we fail to see this.\n",
    "\n",
    "\n",
    "pylabtools.figsize(15,5)\n",
    "plt.subplot(121)\n",
    "autocorrelations=pd.Series([nd_merged.busy.autocorr(lag=l) for l in range(24)])\n",
    "plt.plot(pd.rolling_mean(autocorrelations,1),\"-o\")\n",
    "plt.title(\"Auto correlation over 24 hours\")\n",
    "\n",
    "plt.subplot(122)\n",
    "autocorrelations=pd.Series([nd_merged.busy.autocorr(lag=l) for l in range(3*24)])\n",
    "plt.plot(pd.rolling_mean(autocorrelations,1),\"-o\")\n",
    "\n",
    "plt.title(\"Auto correlation over 3 days, see daily peaks\")"
   ]
  },
  {
   "cell_type": "code",
   "execution_count": 19,
   "metadata": {
    "collapsed": false
   },
   "outputs": [
    {
     "data": {
      "text/plain": [
       "SpearmanrResult(correlation=0.1357738476900634, pvalue=0.0)"
      ]
     },
     "execution_count": 19,
     "metadata": {},
     "output_type": "execute_result"
    }
   ],
   "source": [
    "nd_final=nd_merged\n",
    "a=nd_final.busy[1:]\n",
    "b=nd_final.busy[:-1]\n",
    "\n",
    "from scipy.stats import spearmanr\n",
    "\n",
    "spearmanr(a,b)"
   ]
  },
  {
   "cell_type": "code",
   "execution_count": 20,
   "metadata": {
    "collapsed": false
   },
   "outputs": [
    {
     "data": {
      "text/html": [
       "<div>\n",
       "<table border=\"1\" class=\"dataframe\">\n",
       "  <thead>\n",
       "    <tr style=\"text-align: right;\">\n",
       "      <th></th>\n",
       "      <th>special_day</th>\n",
       "      <th>busy</th>\n",
       "    </tr>\n",
       "  </thead>\n",
       "  <tbody>\n",
       "    <tr>\n",
       "      <th>special_day</th>\n",
       "      <td>1.000000</td>\n",
       "      <td>0.006574</td>\n",
       "    </tr>\n",
       "    <tr>\n",
       "      <th>busy</th>\n",
       "      <td>0.006574</td>\n",
       "      <td>1.000000</td>\n",
       "    </tr>\n",
       "  </tbody>\n",
       "</table>\n",
       "</div>"
      ],
      "text/plain": [
       "             special_day      busy\n",
       "special_day     1.000000  0.006574\n",
       "busy            0.006574  1.000000"
      ]
     },
     "execution_count": 20,
     "metadata": {},
     "output_type": "execute_result"
    }
   ],
   "source": [
    "nd_merged[['special_day','busy']].corr()"
   ]
  },
  {
   "cell_type": "code",
   "execution_count": 21,
   "metadata": {
    "collapsed": false
   },
   "outputs": [
    {
     "data": {
      "text/plain": [
       "<matplotlib.text.Text at 0x10dec9a90>"
      ]
     },
     "execution_count": 21,
     "metadata": {},
     "output_type": "execute_result"
    },
    {
     "data": {
      "image/png": "[encoded data removed]",
      "text/plain": [
       "<matplotlib.figure.Figure at 0x10ccdc410>"
      ]
     },
     "metadata": {},
     "output_type": "display_data"
    }
   ],
   "source": [
    "nd_final=nd_merged\n",
    "\n",
    "cor=[]\n",
    "\n",
    "plt.subplot(211)\n",
    "from scipy.stats import spearmanr\n",
    "for k in range(1,24*7):\n",
    "    a=nd_final.busy[k:]\n",
    "    b=nd_final.special_day[:-k]\n",
    "    cor.append(spearmanr(a,b)[0])\n",
    "    \n",
    "plt.plot(cor)\n",
    "plt.title(\"past correlation with special days\")\n",
    "\n",
    "plt.subplot(212)\n",
    "from scipy.stats import spearmanr\n",
    "for k in range(1,24*7):\n",
    "    a=nd_final.busy[:-k]\n",
    "    b=nd_final.special_day[k:]\n",
    "    cor.append(spearmanr(a,b)[0])\n",
    "    \n",
    "plt.plot(cor)\n",
    "plt.title(\"future correlation with special days\")"
   ]
  },
  {
   "cell_type": "code",
   "execution_count": 22,
   "metadata": {
    "collapsed": false
   },
   "outputs": [
    {
     "data": {
      "text/html": [
       "<div>\n",
       "<table border=\"1\" class=\"dataframe\">\n",
       "  <thead>\n",
       "    <tr style=\"text-align: right;\">\n",
       "      <th></th>\n",
       "      <th>delta_time</th>\n",
       "      <th>date</th>\n",
       "      <th>month</th>\n",
       "      <th>day</th>\n",
       "      <th>time_bin</th>\n",
       "      <th>total</th>\n",
       "      <th>special_day</th>\n",
       "      <th>temperature</th>\n",
       "      <th>temperature_wind</th>\n",
       "      <th>temperature_dew_point</th>\n",
       "      <th>wind_speed</th>\n",
       "      <th>humidity</th>\n",
       "      <th>pressure</th>\n",
       "      <th>busy</th>\n",
       "    </tr>\n",
       "  </thead>\n",
       "  <tbody>\n",
       "    <tr>\n",
       "      <th>0</th>\n",
       "      <td>0</td>\n",
       "      <td>2004-01-01</td>\n",
       "      <td>1</td>\n",
       "      <td>3</td>\n",
       "      <td>0</td>\n",
       "      <td>6</td>\n",
       "      <td>0</td>\n",
       "      <td>2.2</td>\n",
       "      <td>-1.3</td>\n",
       "      <td>-2.0</td>\n",
       "      <td>13.0</td>\n",
       "      <td>74</td>\n",
       "      <td>1020.4</td>\n",
       "      <td>0</td>\n",
       "    </tr>\n",
       "    <tr>\n",
       "      <th>1</th>\n",
       "      <td>1</td>\n",
       "      <td>2004-01-01</td>\n",
       "      <td>1</td>\n",
       "      <td>3</td>\n",
       "      <td>1</td>\n",
       "      <td>9</td>\n",
       "      <td>0</td>\n",
       "      <td>1.9</td>\n",
       "      <td>-1.3</td>\n",
       "      <td>-2.1</td>\n",
       "      <td>11.1</td>\n",
       "      <td>75</td>\n",
       "      <td>1020.6</td>\n",
       "      <td>0</td>\n",
       "    </tr>\n",
       "    <tr>\n",
       "      <th>2</th>\n",
       "      <td>2</td>\n",
       "      <td>2004-01-01</td>\n",
       "      <td>1</td>\n",
       "      <td>3</td>\n",
       "      <td>2</td>\n",
       "      <td>3</td>\n",
       "      <td>0</td>\n",
       "      <td>2.2</td>\n",
       "      <td>-0.9</td>\n",
       "      <td>-1.8</td>\n",
       "      <td>11.1</td>\n",
       "      <td>75</td>\n",
       "      <td>1020.9</td>\n",
       "      <td>0</td>\n",
       "    </tr>\n",
       "    <tr>\n",
       "      <th>3</th>\n",
       "      <td>3</td>\n",
       "      <td>2004-01-01</td>\n",
       "      <td>1</td>\n",
       "      <td>3</td>\n",
       "      <td>3</td>\n",
       "      <td>3</td>\n",
       "      <td>0</td>\n",
       "      <td>2.2</td>\n",
       "      <td>-0.5</td>\n",
       "      <td>-1.7</td>\n",
       "      <td>9.3</td>\n",
       "      <td>75</td>\n",
       "      <td>1020.1</td>\n",
       "      <td>0</td>\n",
       "    </tr>\n",
       "    <tr>\n",
       "      <th>4</th>\n",
       "      <td>4</td>\n",
       "      <td>2004-01-01</td>\n",
       "      <td>1</td>\n",
       "      <td>3</td>\n",
       "      <td>4</td>\n",
       "      <td>2</td>\n",
       "      <td>0</td>\n",
       "      <td>1.7</td>\n",
       "      <td>-1.1</td>\n",
       "      <td>-2.1</td>\n",
       "      <td>9.3</td>\n",
       "      <td>76</td>\n",
       "      <td>1019.5</td>\n",
       "      <td>0</td>\n",
       "    </tr>\n",
       "  </tbody>\n",
       "</table>\n",
       "</div>"
      ],
      "text/plain": [
       "   delta_time        date  month  day  time_bin  total  special_day  \\\n",
       "0           0  2004-01-01      1    3         0      6            0   \n",
       "1           1  2004-01-01      1    3         1      9            0   \n",
       "2           2  2004-01-01      1    3         2      3            0   \n",
       "3           3  2004-01-01      1    3         3      3            0   \n",
       "4           4  2004-01-01      1    3         4      2            0   \n",
       "\n",
       "   temperature  temperature_wind  temperature_dew_point  wind_speed  humidity  \\\n",
       "0          2.2              -1.3                   -2.0        13.0        74   \n",
       "1          1.9              -1.3                   -2.1        11.1        75   \n",
       "2          2.2              -0.9                   -1.8        11.1        75   \n",
       "3          2.2              -0.5                   -1.7         9.3        75   \n",
       "4          1.7              -1.1                   -2.1         9.3        76   \n",
       "\n",
       "   pressure  busy  \n",
       "0    1020.4     0  \n",
       "1    1020.6     0  \n",
       "2    1020.9     0  \n",
       "3    1020.1     0  \n",
       "4    1019.5     0  "
      ]
     },
     "execution_count": 22,
     "metadata": {},
     "output_type": "execute_result"
    }
   ],
   "source": [
    "nd_merged.drop('hour',axis=1,inplace=True)\n",
    "nd_merged.head()"
   ]
  },
  {
   "cell_type": "code",
   "execution_count": 23,
   "metadata": {
    "collapsed": false
   },
   "outputs": [
    {
     "data": {
      "text/plain": [
       "Index([u'delta_time', u'date', u'month', u'day', u'time_bin', u'total',\n",
       "       u'special_day', u'temperature', u'temperature_wind',\n",
       "       u'temperature_dew_point', u'wind_speed', u'humidity', u'pressure',\n",
       "       u'busy'],\n",
       "      dtype='object')"
      ]
     },
     "execution_count": 23,
     "metadata": {},
     "output_type": "execute_result"
    }
   ],
   "source": [
    "nd_merged.columns"
   ]
  },
  {
   "cell_type": "code",
   "execution_count": 24,
   "metadata": {
    "collapsed": true
   },
   "outputs": [],
   "source": [
    "total_lag_hours=24\n",
    "for i in range(1,total_lag_hours+1):\n",
    "    nd_merged['lag_busy'+str(i)]=nd_merged.busy.shift(i)\n",
    "    nd_merged['lag_temperature'+str(i)]=nd_merged.temperature.shift(i)\n",
    "    nd_merged['lag_temperature_wind'+str(i)]=nd_merged.temperature.shift(i)\n",
    "    nd_merged['lag_temperature_dew_point'+str(i)]=nd_merged.temperature.shift(i)\n",
    "    nd_merged['lag_wind_speed'+str(i)]=nd_merged.temperature.shift(i)\n",
    "    nd_merged['lag_wind_humidity'+str(i)]=nd_merged.temperature.shift(i)\n",
    "    nd_merged['lag_wind_pressure'+str(i)]=nd_merged.temperature.shift(i)\n",
    "\n",
    "\n",
    "\n",
    "cols_busy=['lag_busy'+str(i) for i in range(1,total_lag_hours+1) ]\n",
    "cols_temperature=['lag_temperature'+str(i) for i in range(1,total_lag_hours+1) ]\n",
    "cols_temperature_wind=['lag_temperature_wind'+str(i) for i in range(1,total_lag_hours+1) ]\n",
    "cols_temperature_dew_point=['lag_temperature_dew_point'+str(i) for i in range(1,total_lag_hours+1) ]\n",
    "cols_wind_speed=['lag_wind_speed'+str(i) for i in range(1,total_lag_hours+1) ]\n",
    "cols_wind_humidity=['lag_wind_humidity'+str(i) for i in range(1,total_lag_hours+1) ]\n",
    "cols_wind_pressure=['lag_wind_pressure'+str(i) for i in range(1,total_lag_hours+1) ]"
   ]
  },
  {
   "cell_type": "code",
   "execution_count": 25,
   "metadata": {
    "collapsed": true
   },
   "outputs": [],
   "source": [
    "# We cant use the first 'total_lag_days' as they do not have complete information accroding to the above model\n",
    "nd_final=nd_merged[total_lag_hours:]"
   ]
  },
  {
   "cell_type": "code",
   "execution_count": 26,
   "metadata": {
    "collapsed": false
   },
   "outputs": [
    {
     "name": "stderr",
     "output_type": "stream",
     "text": [
      "/Users/bchowdhu/anaconda/lib/python2.7/site-packages/ipykernel/__main__.py:1: SettingWithCopyWarning: \n",
      "A value is trying to be set on a copy of a slice from a DataFrame\n",
      "\n",
      "See the caveats in the documentation: http://pandas.pydata.org/pandas-docs/stable/indexing.html#indexing-view-versus-copy\n",
      "  if __name__ == '__main__':\n"
     ]
    }
   ],
   "source": [
    "nd_final.drop(['delta_time'],axis=1,inplace=True)"
   ]
  },
  {
   "cell_type": "code",
   "execution_count": 27,
   "metadata": {
    "collapsed": false
   },
   "outputs": [
    {
     "data": {
      "text/html": [
       "<div>\n",
       "<table border=\"1\" class=\"dataframe\">\n",
       "  <thead>\n",
       "    <tr style=\"text-align: right;\">\n",
       "      <th></th>\n",
       "      <th>date</th>\n",
       "      <th>month</th>\n",
       "      <th>day</th>\n",
       "      <th>time_bin</th>\n",
       "      <th>total</th>\n",
       "      <th>special_day</th>\n",
       "      <th>temperature</th>\n",
       "      <th>temperature_wind</th>\n",
       "      <th>temperature_dew_point</th>\n",
       "      <th>wind_speed</th>\n",
       "      <th>...</th>\n",
       "      <th>lag_wind_speed23</th>\n",
       "      <th>lag_wind_humidity23</th>\n",
       "      <th>lag_wind_pressure23</th>\n",
       "      <th>lag_busy24</th>\n",
       "      <th>lag_temperature24</th>\n",
       "      <th>lag_temperature_wind24</th>\n",
       "      <th>lag_temperature_dew_point24</th>\n",
       "      <th>lag_wind_speed24</th>\n",
       "      <th>lag_wind_humidity24</th>\n",
       "      <th>lag_wind_pressure24</th>\n",
       "    </tr>\n",
       "  </thead>\n",
       "  <tbody>\n",
       "    <tr>\n",
       "      <th>24</th>\n",
       "      <td>2004-01-02</td>\n",
       "      <td>1</td>\n",
       "      <td>4</td>\n",
       "      <td>0</td>\n",
       "      <td>2</td>\n",
       "      <td>1</td>\n",
       "      <td>0.5</td>\n",
       "      <td>0.5</td>\n",
       "      <td>-0.2</td>\n",
       "      <td>0.0</td>\n",
       "      <td>...</td>\n",
       "      <td>1.9</td>\n",
       "      <td>1.9</td>\n",
       "      <td>1.9</td>\n",
       "      <td>0</td>\n",
       "      <td>2.2</td>\n",
       "      <td>2.2</td>\n",
       "      <td>2.2</td>\n",
       "      <td>2.2</td>\n",
       "      <td>2.2</td>\n",
       "      <td>2.2</td>\n",
       "    </tr>\n",
       "    <tr>\n",
       "      <th>25</th>\n",
       "      <td>2004-01-02</td>\n",
       "      <td>1</td>\n",
       "      <td>4</td>\n",
       "      <td>1</td>\n",
       "      <td>1</td>\n",
       "      <td>1</td>\n",
       "      <td>0.4</td>\n",
       "      <td>0.4</td>\n",
       "      <td>-0.4</td>\n",
       "      <td>0.0</td>\n",
       "      <td>...</td>\n",
       "      <td>2.2</td>\n",
       "      <td>2.2</td>\n",
       "      <td>2.2</td>\n",
       "      <td>0</td>\n",
       "      <td>1.9</td>\n",
       "      <td>1.9</td>\n",
       "      <td>1.9</td>\n",
       "      <td>1.9</td>\n",
       "      <td>1.9</td>\n",
       "      <td>1.9</td>\n",
       "    </tr>\n",
       "    <tr>\n",
       "      <th>26</th>\n",
       "      <td>2004-01-02</td>\n",
       "      <td>1</td>\n",
       "      <td>4</td>\n",
       "      <td>2</td>\n",
       "      <td>0</td>\n",
       "      <td>1</td>\n",
       "      <td>0.7</td>\n",
       "      <td>0.7</td>\n",
       "      <td>-0.4</td>\n",
       "      <td>1.9</td>\n",
       "      <td>...</td>\n",
       "      <td>2.2</td>\n",
       "      <td>2.2</td>\n",
       "      <td>2.2</td>\n",
       "      <td>0</td>\n",
       "      <td>2.2</td>\n",
       "      <td>2.2</td>\n",
       "      <td>2.2</td>\n",
       "      <td>2.2</td>\n",
       "      <td>2.2</td>\n",
       "      <td>2.2</td>\n",
       "    </tr>\n",
       "    <tr>\n",
       "      <th>27</th>\n",
       "      <td>2004-01-02</td>\n",
       "      <td>1</td>\n",
       "      <td>4</td>\n",
       "      <td>3</td>\n",
       "      <td>0</td>\n",
       "      <td>1</td>\n",
       "      <td>0.7</td>\n",
       "      <td>0.7</td>\n",
       "      <td>-0.4</td>\n",
       "      <td>3.7</td>\n",
       "      <td>...</td>\n",
       "      <td>1.7</td>\n",
       "      <td>1.7</td>\n",
       "      <td>1.7</td>\n",
       "      <td>0</td>\n",
       "      <td>2.2</td>\n",
       "      <td>2.2</td>\n",
       "      <td>2.2</td>\n",
       "      <td>2.2</td>\n",
       "      <td>2.2</td>\n",
       "      <td>2.2</td>\n",
       "    </tr>\n",
       "    <tr>\n",
       "      <th>28</th>\n",
       "      <td>2004-01-02</td>\n",
       "      <td>1</td>\n",
       "      <td>4</td>\n",
       "      <td>4</td>\n",
       "      <td>0</td>\n",
       "      <td>1</td>\n",
       "      <td>0.5</td>\n",
       "      <td>0.5</td>\n",
       "      <td>-0.4</td>\n",
       "      <td>0.0</td>\n",
       "      <td>...</td>\n",
       "      <td>1.5</td>\n",
       "      <td>1.5</td>\n",
       "      <td>1.5</td>\n",
       "      <td>0</td>\n",
       "      <td>1.7</td>\n",
       "      <td>1.7</td>\n",
       "      <td>1.7</td>\n",
       "      <td>1.7</td>\n",
       "      <td>1.7</td>\n",
       "      <td>1.7</td>\n",
       "    </tr>\n",
       "  </tbody>\n",
       "</table>\n",
       "<p>5 rows × 181 columns</p>\n",
       "</div>"
      ],
      "text/plain": [
       "          date  month  day  time_bin  total  special_day  temperature  \\\n",
       "24  2004-01-02      1    4         0      2            1          0.5   \n",
       "25  2004-01-02      1    4         1      1            1          0.4   \n",
       "26  2004-01-02      1    4         2      0            1          0.7   \n",
       "27  2004-01-02      1    4         3      0            1          0.7   \n",
       "28  2004-01-02      1    4         4      0            1          0.5   \n",
       "\n",
       "    temperature_wind  temperature_dew_point  wind_speed         ...           \\\n",
       "24               0.5                   -0.2         0.0         ...            \n",
       "25               0.4                   -0.4         0.0         ...            \n",
       "26               0.7                   -0.4         1.9         ...            \n",
       "27               0.7                   -0.4         3.7         ...            \n",
       "28               0.5                   -0.4         0.0         ...            \n",
       "\n",
       "    lag_wind_speed23  lag_wind_humidity23  lag_wind_pressure23  lag_busy24  \\\n",
       "24               1.9                  1.9                  1.9           0   \n",
       "25               2.2                  2.2                  2.2           0   \n",
       "26               2.2                  2.2                  2.2           0   \n",
       "27               1.7                  1.7                  1.7           0   \n",
       "28               1.5                  1.5                  1.5           0   \n",
       "\n",
       "    lag_temperature24  lag_temperature_wind24  lag_temperature_dew_point24  \\\n",
       "24                2.2                     2.2                          2.2   \n",
       "25                1.9                     1.9                          1.9   \n",
       "26                2.2                     2.2                          2.2   \n",
       "27                2.2                     2.2                          2.2   \n",
       "28                1.7                     1.7                          1.7   \n",
       "\n",
       "    lag_wind_speed24  lag_wind_humidity24  lag_wind_pressure24  \n",
       "24               2.2                  2.2                  2.2  \n",
       "25               1.9                  1.9                  1.9  \n",
       "26               2.2                  2.2                  2.2  \n",
       "27               2.2                  2.2                  2.2  \n",
       "28               1.7                  1.7                  1.7  \n",
       "\n",
       "[5 rows x 181 columns]"
      ]
     },
     "execution_count": 27,
     "metadata": {},
     "output_type": "execute_result"
    }
   ],
   "source": [
    "nd_final.head()"
   ]
  },
  {
   "cell_type": "code",
   "execution_count": 28,
   "metadata": {
    "collapsed": false
   },
   "outputs": [
    {
     "name": "stderr",
     "output_type": "stream",
     "text": [
      "/Users/bchowdhu/anaconda/lib/python2.7/site-packages/ipykernel/__main__.py:1: SettingWithCopyWarning: \n",
      "A value is trying to be set on a copy of a slice from a DataFrame\n",
      "\n",
      "See the caveats in the documentation: http://pandas.pydata.org/pandas-docs/stable/indexing.html#indexing-view-versus-copy\n",
      "  if __name__ == '__main__':\n"
     ]
    }
   ],
   "source": [
    "nd_final.drop('date',axis=1,inplace=True)\n",
    "from sklearn.preprocessing import Imputer\n",
    "imp=Imputer()\n",
    "cols_nd_final=nd_final.columns\n",
    "nd_final=pd.DataFrame(imp.fit_transform(nd_final),columns=cols_nd_final)"
   ]
  },
  {
   "cell_type": "code",
   "execution_count": 29,
   "metadata": {
    "collapsed": false
   },
   "outputs": [
    {
     "data": {
      "text/html": [
       "<div>\n",
       "<table border=\"1\" class=\"dataframe\">\n",
       "  <thead>\n",
       "    <tr style=\"text-align: right;\">\n",
       "      <th></th>\n",
       "      <th>month</th>\n",
       "      <th>day</th>\n",
       "      <th>time_bin</th>\n",
       "      <th>total</th>\n",
       "      <th>special_day</th>\n",
       "      <th>temperature</th>\n",
       "      <th>temperature_wind</th>\n",
       "      <th>temperature_dew_point</th>\n",
       "      <th>wind_speed</th>\n",
       "      <th>humidity</th>\n",
       "      <th>...</th>\n",
       "      <th>lag_wind_speed23</th>\n",
       "      <th>lag_wind_humidity23</th>\n",
       "      <th>lag_wind_pressure23</th>\n",
       "      <th>lag_busy24</th>\n",
       "      <th>lag_temperature24</th>\n",
       "      <th>lag_temperature_wind24</th>\n",
       "      <th>lag_temperature_dew_point24</th>\n",
       "      <th>lag_wind_speed24</th>\n",
       "      <th>lag_wind_humidity24</th>\n",
       "      <th>lag_wind_pressure24</th>\n",
       "    </tr>\n",
       "  </thead>\n",
       "  <tbody>\n",
       "    <tr>\n",
       "      <th>0</th>\n",
       "      <td>1</td>\n",
       "      <td>4</td>\n",
       "      <td>0</td>\n",
       "      <td>2</td>\n",
       "      <td>1</td>\n",
       "      <td>0.5</td>\n",
       "      <td>0.5</td>\n",
       "      <td>-0.2</td>\n",
       "      <td>0.0</td>\n",
       "      <td>95</td>\n",
       "      <td>...</td>\n",
       "      <td>1.9</td>\n",
       "      <td>1.9</td>\n",
       "      <td>1.9</td>\n",
       "      <td>0</td>\n",
       "      <td>2.2</td>\n",
       "      <td>2.2</td>\n",
       "      <td>2.2</td>\n",
       "      <td>2.2</td>\n",
       "      <td>2.2</td>\n",
       "      <td>2.2</td>\n",
       "    </tr>\n",
       "    <tr>\n",
       "      <th>1</th>\n",
       "      <td>1</td>\n",
       "      <td>4</td>\n",
       "      <td>1</td>\n",
       "      <td>1</td>\n",
       "      <td>1</td>\n",
       "      <td>0.4</td>\n",
       "      <td>0.4</td>\n",
       "      <td>-0.4</td>\n",
       "      <td>0.0</td>\n",
       "      <td>94</td>\n",
       "      <td>...</td>\n",
       "      <td>2.2</td>\n",
       "      <td>2.2</td>\n",
       "      <td>2.2</td>\n",
       "      <td>0</td>\n",
       "      <td>1.9</td>\n",
       "      <td>1.9</td>\n",
       "      <td>1.9</td>\n",
       "      <td>1.9</td>\n",
       "      <td>1.9</td>\n",
       "      <td>1.9</td>\n",
       "    </tr>\n",
       "    <tr>\n",
       "      <th>2</th>\n",
       "      <td>1</td>\n",
       "      <td>4</td>\n",
       "      <td>2</td>\n",
       "      <td>0</td>\n",
       "      <td>1</td>\n",
       "      <td>0.7</td>\n",
       "      <td>0.7</td>\n",
       "      <td>-0.4</td>\n",
       "      <td>1.9</td>\n",
       "      <td>92</td>\n",
       "      <td>...</td>\n",
       "      <td>2.2</td>\n",
       "      <td>2.2</td>\n",
       "      <td>2.2</td>\n",
       "      <td>0</td>\n",
       "      <td>2.2</td>\n",
       "      <td>2.2</td>\n",
       "      <td>2.2</td>\n",
       "      <td>2.2</td>\n",
       "      <td>2.2</td>\n",
       "      <td>2.2</td>\n",
       "    </tr>\n",
       "    <tr>\n",
       "      <th>3</th>\n",
       "      <td>1</td>\n",
       "      <td>4</td>\n",
       "      <td>3</td>\n",
       "      <td>0</td>\n",
       "      <td>1</td>\n",
       "      <td>0.7</td>\n",
       "      <td>0.7</td>\n",
       "      <td>-0.4</td>\n",
       "      <td>3.7</td>\n",
       "      <td>92</td>\n",
       "      <td>...</td>\n",
       "      <td>1.7</td>\n",
       "      <td>1.7</td>\n",
       "      <td>1.7</td>\n",
       "      <td>0</td>\n",
       "      <td>2.2</td>\n",
       "      <td>2.2</td>\n",
       "      <td>2.2</td>\n",
       "      <td>2.2</td>\n",
       "      <td>2.2</td>\n",
       "      <td>2.2</td>\n",
       "    </tr>\n",
       "    <tr>\n",
       "      <th>4</th>\n",
       "      <td>1</td>\n",
       "      <td>4</td>\n",
       "      <td>4</td>\n",
       "      <td>0</td>\n",
       "      <td>1</td>\n",
       "      <td>0.5</td>\n",
       "      <td>0.5</td>\n",
       "      <td>-0.4</td>\n",
       "      <td>0.0</td>\n",
       "      <td>94</td>\n",
       "      <td>...</td>\n",
       "      <td>1.5</td>\n",
       "      <td>1.5</td>\n",
       "      <td>1.5</td>\n",
       "      <td>0</td>\n",
       "      <td>1.7</td>\n",
       "      <td>1.7</td>\n",
       "      <td>1.7</td>\n",
       "      <td>1.7</td>\n",
       "      <td>1.7</td>\n",
       "      <td>1.7</td>\n",
       "    </tr>\n",
       "  </tbody>\n",
       "</table>\n",
       "<p>5 rows × 180 columns</p>\n",
       "</div>"
      ],
      "text/plain": [
       "   month  day  time_bin  total  special_day  temperature  temperature_wind  \\\n",
       "0      1    4         0      2            1          0.5               0.5   \n",
       "1      1    4         1      1            1          0.4               0.4   \n",
       "2      1    4         2      0            1          0.7               0.7   \n",
       "3      1    4         3      0            1          0.7               0.7   \n",
       "4      1    4         4      0            1          0.5               0.5   \n",
       "\n",
       "   temperature_dew_point  wind_speed  humidity         ...           \\\n",
       "0                   -0.2         0.0        95         ...            \n",
       "1                   -0.4         0.0        94         ...            \n",
       "2                   -0.4         1.9        92         ...            \n",
       "3                   -0.4         3.7        92         ...            \n",
       "4                   -0.4         0.0        94         ...            \n",
       "\n",
       "   lag_wind_speed23  lag_wind_humidity23  lag_wind_pressure23  lag_busy24  \\\n",
       "0               1.9                  1.9                  1.9           0   \n",
       "1               2.2                  2.2                  2.2           0   \n",
       "2               2.2                  2.2                  2.2           0   \n",
       "3               1.7                  1.7                  1.7           0   \n",
       "4               1.5                  1.5                  1.5           0   \n",
       "\n",
       "   lag_temperature24  lag_temperature_wind24  lag_temperature_dew_point24  \\\n",
       "0                2.2                     2.2                          2.2   \n",
       "1                1.9                     1.9                          1.9   \n",
       "2                2.2                     2.2                          2.2   \n",
       "3                2.2                     2.2                          2.2   \n",
       "4                1.7                     1.7                          1.7   \n",
       "\n",
       "   lag_wind_speed24  lag_wind_humidity24  lag_wind_pressure24  \n",
       "0               2.2                  2.2                  2.2  \n",
       "1               1.9                  1.9                  1.9  \n",
       "2               2.2                  2.2                  2.2  \n",
       "3               2.2                  2.2                  2.2  \n",
       "4               1.7                  1.7                  1.7  \n",
       "\n",
       "[5 rows x 180 columns]"
      ]
     },
     "execution_count": 29,
     "metadata": {},
     "output_type": "execute_result"
    }
   ],
   "source": [
    "nd_final.head()"
   ]
  },
  {
   "cell_type": "code",
   "execution_count": 30,
   "metadata": {
    "collapsed": false
   },
   "outputs": [],
   "source": [
    "from sklearn.cross_validation import train_test_split\n",
    "train,test=train_test_split(nd_final)\n",
    "models={}"
   ]
  },
  {
   "cell_type": "code",
   "execution_count": 73,
   "metadata": {
    "collapsed": true
   },
   "outputs": [],
   "source": [
    "cols_busy=['lag_busy'+str(i) for i in range(1,total_lag_hours+1) ]\n",
    "cols_temperature=['lag_temperature'+str(i) for i in range(1,total_lag_hours+1) ]\n",
    "cols_temperature_wind=['lag_temperature_wind'+str(i) for i in range(1,total_lag_hours+1) ]\n",
    "cols_temperature_dew_point=['lag_temperature_dew_point'+str(i) for i in range(1,total_lag_hours+1) ]\n",
    "cols_wind_speed=['lag_wind_speed'+str(i) for i in range(1,total_lag_hours+1) ]\n",
    "cols_wind_humidity=['lag_wind_humidity'+str(i) for i in range(1,total_lag_hours+1) ]\n",
    "cols_wind_pressure=['lag_wind_pressure'+str(i) for i in range(1,total_lag_hours+1) ]\n",
    "\n",
    "\n",
    "numerical_cols=cols_temperature+cols_temperature_wind+cols_temperature_dew_point+cols_wind_speed+cols_wind_humidity+cols_wind_pressure\n",
    "catecorical_cols=cols_busy+['day','month','time_bin','special_day']\n"
   ]
  },
  {
   "cell_type": "code",
   "execution_count": 463,
   "metadata": {
    "collapsed": false
   },
   "outputs": [],
   "source": [
    "X_train_numerical=train[numerical_cols]\n",
    "X_train_categorical=train[catecorical_cols]\n",
    "y_train=train.busy\n",
    "\n",
    "\n",
    "X_test_numerical=test[numerical_cols]\n",
    "X_test_categorical=test[catecorical_cols]\n",
    "y_test=test.busy\n",
    "\n"
   ]
  },
  {
   "cell_type": "code",
   "execution_count": 464,
   "metadata": {
    "collapsed": false
   },
   "outputs": [],
   "source": [
    "from sklearn.preprocessing import OneHotEncoder\n",
    "enc=OneHotEncoder()\n",
    "enc.fit(X_train_categorical)\n",
    "X_train_categorical=enc.transform(X_train_categorical).toarray()\n",
    "X_test_categorical=enc.transform(X_test_categorical).toarray()"
   ]
  },
  {
   "cell_type": "code",
   "execution_count": 465,
   "metadata": {
    "collapsed": false
   },
   "outputs": [],
   "source": [
    "X_train=np.hstack((X_train_numerical,X_train_categorical))\n",
    "X_test=np.hstack((X_test_numerical,X_test_categorical))"
   ]
  },
  {
   "cell_type": "code",
   "execution_count": 466,
   "metadata": {
    "collapsed": false
   },
   "outputs": [],
   "source": [
    "from sklearn.ensemble import ExtraTreesClassifier,GradientBoostingClassifier\n",
    "from sklearn.linear_model import LogisticRegression\n",
    "from sklearn.svm import SVC"
   ]
  },
  {
   "cell_type": "code",
   "execution_count": 468,
   "metadata": {
    "collapsed": false
   },
   "outputs": [
    {
     "data": {
      "text/plain": [
       "LogisticRegression(C=1.0, class_weight=None, dual=False, fit_intercept=True,\n",
       "          intercept_scaling=1, max_iter=100, multi_class='ovr', n_jobs=1,\n",
       "          penalty='l2', random_state=None, solver='liblinear', tol=0.0001,\n",
       "          verbose=0, warm_start=False)"
      ]
     },
     "execution_count": 468,
     "metadata": {},
     "output_type": "execute_result"
    }
   ],
   "source": [
    "#clf=ExtraTreesClassifier(n_estimators=1000,n_jobs=-1)\n",
    "clf=LogisticRegression()\n",
    "#clf=SVC()\n",
    "#clf=GradientBoostingClassifier()\n",
    "clf.fit(X_train,y_train)"
   ]
  },
  {
   "cell_type": "code",
   "execution_count": 469,
   "metadata": {
    "collapsed": true
   },
   "outputs": [],
   "source": [
    "#models['two']=[enc,clf]"
   ]
  },
  {
   "cell_type": "code",
   "execution_count": 470,
   "metadata": {
    "collapsed": true
   },
   "outputs": [],
   "source": [
    "y_pred_rt = clf.predict_proba(X_test)[:, 1]"
   ]
  },
  {
   "cell_type": "code",
   "execution_count": 471,
   "metadata": {
    "collapsed": false
   },
   "outputs": [],
   "source": [
    "from sklearn.metrics import roc_curve, roc_auc_score,confusion_matrix\n",
    "fpr_rt_lm, tpr_rt_lm, _ = roc_curve(y_test, y_pred_rt)"
   ]
  },
  {
   "cell_type": "code",
   "execution_count": 472,
   "metadata": {
    "collapsed": false,
    "scrolled": true
   },
   "outputs": [
    {
     "data": {
      "text/plain": [
       "<matplotlib.text.Text at 0x12665ac50>"
      ]
     },
     "execution_count": 472,
     "metadata": {},
     "output_type": "execute_result"
    },
    {
     "data": {
      "image/png": "[encoded data removed]",
      "text/plain": [
       "<matplotlib.figure.Figure at 0x12ae4ec10>"
      ]
     },
     "metadata": {},
     "output_type": "display_data"
    }
   ],
   "source": [
    "pylabtools.figsize(15,5)\n",
    "\n",
    "plt.subplot(131)\n",
    "plt.plot(fpr_rt_lm, tpr_rt_lm)\n",
    "plt.xlabel('False positive rate')\n",
    "plt.ylabel('True positive rate')\n",
    "plt.title(\"ROC score = \"+str(roc_auc_score(y_test, y_pred_rt)))\n",
    "plt.subplot(132)\n",
    "plt.plot(np.linspace(0,1,fpr_rt_lm.shape[0]),fpr_rt_lm)\n",
    "plt.ylabel('False positive rate')\n",
    "plt.subplot(133)\n",
    "plt.plot(np.linspace(0,1,fpr_rt_lm.shape[0]),tpr_rt_lm)\n",
    "plt.ylabel('True positive rate')"
   ]
  },
  {
   "cell_type": "code",
   "execution_count": 36,
   "metadata": {
    "collapsed": false
   },
   "outputs": [],
   "source": [
    "#Import libraries:\n",
    "import pandas as pd\n",
    "import numpy as np\n",
    "import xgboost as xgb\n",
    "from xgboost.sklearn import XGBClassifier\n",
    "from sklearn import cross_validation, metrics   #Additional scklearn functions\n",
    "from sklearn.grid_search import GridSearchCV   #Perforing grid search\n",
    "\n",
    "import matplotlib.pylab as plt\n",
    "%matplotlib inline\n",
    "from matplotlib.pylab import rcParams\n",
    "rcParams['figure.figsize'] = 12, 4\n",
    "\n",
    "train = nd_final\n",
    "target = 'busy'\n"
   ]
  },
  {
   "cell_type": "code",
   "execution_count": 37,
   "metadata": {
    "collapsed": false
   },
   "outputs": [],
   "source": [
    "X_numerical=nd_final[numerical_cols]\n",
    "X_categorical=nd_final[catecorical_cols]\n",
    "y_train=nd_final.busy\n",
    "X=np.hstack((X_numerical,X_categorical))\n",
    "\n",
    "\n",
    "nd_final['target']=nd_final.busy"
   ]
  },
  {
   "cell_type": "code",
   "execution_count": 69,
   "metadata": {
    "collapsed": true
   },
   "outputs": [],
   "source": [
    "import xgboost as xgb\n",
    "\n",
    "def modelfit(alg, dtrain, predictors,useTrainCV=True, cv_folds=5):\n",
    "    \n",
    "    if useTrainCV:\n",
    "        xgb_param = alg.get_xgb_params()\n",
    "        xgtrain = xgb.DMatrix(dtrain[predictors].values, label=dtrain[target].values)\n",
    "        cvresult = xgb.cv(xgb_param, xgtrain, num_boost_round=alg.get_params()['n_estimators'], nfold=cv_folds,\n",
    "            metrics={'auc'}, show_progress=True)\n",
    "        alg.set_params(n_estimators=cvresult.shape[0])\n",
    "    \n",
    "    #Fit the algorithm on the data\n",
    "    alg.fit(dtrain[predictors], dtrain['target'],eval_metric='auc')\n",
    "        \n",
    "    #Predict training set:\n",
    "    dtrain_predictions = alg.predict(dtrain[predictors])\n",
    "    dtrain_predprob = alg.predict_proba(dtrain[predictors])[:,1]\n",
    "        \n",
    "    #Print model report:\n",
    "    print \"\\nModel Report\"\n",
    "    print \"Accuracy : %.4g\" % metrics.accuracy_score(dtrain['target'].values, dtrain_predictions)\n",
    "    print \"AUC Score (Train): %f\" % metrics.roc_auc_score(dtrain['target'], dtrain_predprob)\n",
    "                    \n",
    "    feat_imp = pd.Series(alg.booster().get_fscore()).sort_values(ascending=False)\n",
    "    feat_imp.plot(kind='bar', title='Feature Importances')\n",
    "    plt.ylabel('Feature Importance Score')"
   ]
  },
  {
   "cell_type": "code",
   "execution_count": null,
   "metadata": {
    "collapsed": true
   },
   "outputs": [],
   "source": []
  },
  {
   "cell_type": "code",
   "execution_count": 75,
   "metadata": {
    "collapsed": false
   },
   "outputs": [],
   "source": [
    "from xgboost.sklearn import XGBClassifier\n",
    "\n",
    "xgb1 = XGBClassifier(\n",
    " learning_rate =0.1,\n",
    " n_estimators=1000,\n",
    " max_depth=5,\n",
    " min_child_weight=1,\n",
    " gamma=0,\n",
    " subsample=0.8,\n",
    " colsample_bytree=0.8,\n",
    " objective= 'binary:logistic',\n",
    " nthread=4,\n",
    " scale_pos_weight=1,\n",
    " seed=27)\n",
    "predictors=catecorical_cols +numerical_cols"
   ]
  },
  {
   "cell_type": "code",
   "execution_count": 76,
   "metadata": {
    "collapsed": false
   },
   "outputs": [
    {
     "name": "stderr",
     "output_type": "stream",
     "text": [
      "[0]\tcv-test-auc:0.6804184+0.0604496903502\tcv-train-auc:0.6906024+0.0604511102515\n",
      "[1]\tcv-test-auc:0.747823+0.0279360402133\tcv-train-auc:0.7505942+0.0330226294374\n",
      "[2]\tcv-test-auc:0.7630272+0.0223161331095\tcv-train-auc:0.7675012+0.0226465229949\n",
      "[3]\tcv-test-auc:0.764919+0.0191148569966\tcv-train-auc:0.7709898+0.01895461674\n",
      "[4]\tcv-test-auc:0.764264+0.0188010235041\tcv-train-auc:0.773409+0.0199310372535\n",
      "[5]\tcv-test-auc:0.7748598+0.00956933636988\tcv-train-auc:0.7860656+0.00473679885999\n",
      "[6]\tcv-test-auc:0.775613+0.00997258999458\tcv-train-auc:0.7895078+0.00504512835912\n",
      "[7]\tcv-test-auc:0.775897+0.0104308453924\tcv-train-auc:0.7903766+0.00444688585867\n",
      "[8]\tcv-test-auc:0.7779944+0.0113961480264\tcv-train-auc:0.7940642+0.00741624064874\n",
      "[9]\tcv-test-auc:0.780009+0.0115081540309\tcv-train-auc:0.7972196+0.00705322761862\n",
      "[10]\tcv-test-auc:0.7816498+0.0102825182791\tcv-train-auc:0.7979852+0.00653000047167\n",
      "[11]\tcv-test-auc:0.7848838+0.0142978563204\tcv-train-auc:0.802185+0.00305032306486\n",
      "[12]\tcv-test-auc:0.78472+0.0144676113854\tcv-train-auc:0.803684+0.00286181984059\n",
      "[13]\tcv-test-auc:0.7864338+0.0125875277223\tcv-train-auc:0.8052414+0.00335501490906\n",
      "[14]\tcv-test-auc:0.7900708+0.0157682568142\tcv-train-auc:0.809505+0.00559051958229\n",
      "[15]\tcv-test-auc:0.7912052+0.0175752523214\tcv-train-auc:0.8125738+0.00725926969881\n",
      "[16]\tcv-test-auc:0.7995078+0.0131357911281\tcv-train-auc:0.8213102+0.0108479455271\n",
      "[17]\tcv-test-auc:0.8042052+0.0152329362554\tcv-train-auc:0.8267218+0.00724730657279\n",
      "[18]\tcv-test-auc:0.8044556+0.0191474219737\tcv-train-auc:0.828714+0.00820460731541\n",
      "[19]\tcv-test-auc:0.8021634+0.0201729535428\tcv-train-auc:0.8290812+0.00865013841277\n",
      "[20]\tcv-test-auc:0.8018758+0.0202193053333\tcv-train-auc:0.8307778+0.00973203069046\n",
      "[21]\tcv-test-auc:0.8011122+0.0207804782755\tcv-train-auc:0.8319596+0.00900247471754\n",
      "[22]\tcv-test-auc:0.8025742+0.0195546796895\tcv-train-auc:0.8355298+0.00742906775847\n",
      "[23]\tcv-test-auc:0.8020244+0.0167251312413\tcv-train-auc:0.8377348+0.00604633586232\n",
      "[24]\tcv-test-auc:0.8036088+0.0154497102678\tcv-train-auc:0.8382514+0.00657641943918\n",
      "[25]\tcv-test-auc:0.8029288+0.0141717158651\tcv-train-auc:0.8394818+0.00746919887003\n",
      "[26]\tcv-test-auc:0.8028136+0.0131721947693\tcv-train-auc:0.8405096+0.00798072414258\n",
      "[27]\tcv-test-auc:0.8026402+0.0135217887633\tcv-train-auc:0.8397578+0.00821770837643\n",
      "[28]\tcv-test-auc:0.8044942+0.0150190872213\tcv-train-auc:0.8422642+0.00769538098862\n",
      "[29]\tcv-test-auc:0.8041038+0.0157101415321\tcv-train-auc:0.8440762+0.00695196707127\n",
      "[30]\tcv-test-auc:0.8031102+0.0144228401835\tcv-train-auc:0.8456956+0.0109872699175\n",
      "[31]\tcv-test-auc:0.8061714+0.0125507429676\tcv-train-auc:0.8469024+0.0104883804775\n",
      "[32]\tcv-test-auc:0.806736+0.0123843920642\tcv-train-auc:0.8502772+0.00908890440922\n",
      "[33]\tcv-test-auc:0.8081652+0.0119143287583\tcv-train-auc:0.850735+0.00973699692924\n",
      "[34]\tcv-test-auc:0.811387+0.0129957964281\tcv-train-auc:0.8547716+0.00650811784159\n",
      "[35]\tcv-test-auc:0.812623+0.0142647957293\tcv-train-auc:0.8561108+0.00568329268646\n",
      "[36]\tcv-test-auc:0.8141852+0.014591350786\tcv-train-auc:0.8584258+0.00607050974466\n",
      "[37]\tcv-test-auc:0.8145328+0.0143444784834\tcv-train-auc:0.8593648+0.00598248548348\n",
      "[38]\tcv-test-auc:0.8141404+0.0151570286877\tcv-train-auc:0.8611358+0.00496691269905\n",
      "[39]\tcv-test-auc:0.8152516+0.0154934003834\tcv-train-auc:0.8646096+0.00338481760808\n",
      "[40]\tcv-test-auc:0.818197+0.0147365399602\tcv-train-auc:0.8665176+0.00377234238107\n",
      "[41]\tcv-test-auc:0.820941+0.0141825512656\tcv-train-auc:0.8680174+0.00516466070909\n",
      "[42]\tcv-test-auc:0.8214896+0.0143718480036\tcv-train-auc:0.8694426+0.00519010140941\n",
      "[43]\tcv-test-auc:0.8225832+0.0136932277481\tcv-train-auc:0.8704726+0.00552196478076\n",
      "[44]\tcv-test-auc:0.821884+0.0152908056557\tcv-train-auc:0.8719606+0.00536755380411\n",
      "[45]\tcv-test-auc:0.822928+0.0154891732381\tcv-train-auc:0.8740746+0.00621607183356\n",
      "[46]\tcv-test-auc:0.8239894+0.0166895897924\tcv-train-auc:0.875761+0.0055714345011\n",
      "[47]\tcv-test-auc:0.8251974+0.0161617997463\tcv-train-auc:0.876594+0.00566113016985\n",
      "[48]\tcv-test-auc:0.8255654+0.0161317227673\tcv-train-auc:0.8788004+0.00566093139333\n",
      "[49]\tcv-test-auc:0.8256694+0.0153616644749\tcv-train-auc:0.8800772+0.00499207032803\n",
      "[50]\tcv-test-auc:0.8258844+0.014227441718\tcv-train-auc:0.8811948+0.00573318300423\n",
      "[51]\tcv-test-auc:0.8260936+0.013992029797\tcv-train-auc:0.8818472+0.00559525732742\n",
      "[52]\tcv-test-auc:0.8256506+0.0144622696504\tcv-train-auc:0.882427+0.00605807586615\n",
      "[53]\tcv-test-auc:0.826664+0.0129948364668\tcv-train-auc:0.8837462+0.00601971432545\n",
      "[54]\tcv-test-auc:0.8267408+0.0121725404316\tcv-train-auc:0.8852354+0.00636094762123\n",
      "[55]\tcv-test-auc:0.8263006+0.0121275677792\tcv-train-auc:0.8869322+0.00608091701637\n",
      "[56]\tcv-test-auc:0.8269712+0.0124690804697\tcv-train-auc:0.8890088+0.00629819022895\n",
      "[57]\tcv-test-auc:0.8270952+0.0118699640842\tcv-train-auc:0.891037+0.00539483616063\n",
      "[58]\tcv-test-auc:0.8271968+0.0114314691164\tcv-train-auc:0.8920714+0.00541328383146\n",
      "[59]\tcv-test-auc:0.8275512+0.0116528993714\tcv-train-auc:0.8940564+0.00559127236325\n",
      "[60]\tcv-test-auc:0.827102+0.0122244481757\tcv-train-auc:0.895319+0.00541640947492\n",
      "[61]\tcv-test-auc:0.8272634+0.0120162232103\tcv-train-auc:0.8970202+0.00624905072471\n",
      "[62]\tcv-test-auc:0.8284104+0.0117721106791\tcv-train-auc:0.8980904+0.00684072264019\n",
      "[63]\tcv-test-auc:0.8283892+0.0128091573712\tcv-train-auc:0.8993996+0.00714629399339\n",
      "[64]\tcv-test-auc:0.8276594+0.0123828257454\tcv-train-auc:0.9007922+0.00705496237835\n",
      "[65]\tcv-test-auc:0.827931+0.0120763742075\tcv-train-auc:0.902208+0.00731828463508\n",
      "[66]\tcv-test-auc:0.8272782+0.0111662124895\tcv-train-auc:0.9041364+0.00645318623937\n",
      "[67]\tcv-test-auc:0.827195+0.0121378915467\tcv-train-auc:0.9045742+0.00663675873902\n",
      "[68]\tcv-test-auc:0.8274084+0.0119243163259\tcv-train-auc:0.9060322+0.00596794716465\n",
      "[69]\tcv-test-auc:0.8275976+0.0111398664014\tcv-train-auc:0.906722+0.00624467453115\n",
      "[70]\tcv-test-auc:0.8273368+0.0108874042159\tcv-train-auc:0.9082484+0.00539651452699\n",
      "[71]\tcv-test-auc:0.8279742+0.0107578907858\tcv-train-auc:0.9093108+0.00480447555515\n",
      "[72]\tcv-test-auc:0.8278438+0.0107219617496\tcv-train-auc:0.9106296+0.00483308843701\n",
      "[73]\tcv-test-auc:0.827501+0.0107680928488\tcv-train-auc:0.9119334+0.00486007562081\n",
      "[74]\tcv-test-auc:0.8274362+0.0106576893068\tcv-train-auc:0.9130718+0.00504298544118\n",
      "[75]\tcv-test-auc:0.8275128+0.0105097677501\tcv-train-auc:0.914663+0.0053944792149\n",
      "[76]\tcv-test-auc:0.8271302+0.0103134643142\tcv-train-auc:0.9161878+0.00535946293578\n",
      "[77]\tcv-test-auc:0.8267238+0.0102652541011\tcv-train-auc:0.9178154+0.00457130570406\n",
      "[78]\tcv-test-auc:0.8267722+0.00975109689009\tcv-train-auc:0.9186786+0.00467904881787\n",
      "[79]\tcv-test-auc:0.8270642+0.00958702978821\tcv-train-auc:0.9200282+0.00493500749341\n",
      "[80]\tcv-test-auc:0.8268696+0.00988375454167\tcv-train-auc:0.921558+0.00431217017289\n",
      "[81]\tcv-test-auc:0.826021+0.0107212730774\tcv-train-auc:0.9228648+0.00480420592398\n",
      "[82]\tcv-test-auc:0.826302+0.0110858035162\tcv-train-auc:0.9247144+0.00456864906072\n",
      "[83]\tcv-test-auc:0.8257022+0.0112478613149\tcv-train-auc:0.9260488+0.00497954437273\n",
      "[84]\tcv-test-auc:0.8257304+0.0115351154238\tcv-train-auc:0.9271066+0.00512328795209\n",
      "[85]\tcv-test-auc:0.8259976+0.0114599872356\tcv-train-auc:0.9282164+0.00441550615898\n",
      "[86]\tcv-test-auc:0.8259572+0.0112363450178\tcv-train-auc:0.9295332+0.00479500003754\n",
      "[87]\tcv-test-auc:0.8257332+0.0109993236592\tcv-train-auc:0.930077+0.00484341379607\n",
      "[88]\tcv-test-auc:0.825994+0.0110678779899\tcv-train-auc:0.931842+0.00428182489133\n",
      "[89]\tcv-test-auc:0.8261614+0.0101347104862\tcv-train-auc:0.9328708+0.00421673757305\n",
      "[90]\tcv-test-auc:0.8266738+0.00973292522112\tcv-train-auc:0.934087+0.00370082482698\n",
      "[91]\tcv-test-auc:0.8264522+0.00923387863035\tcv-train-auc:0.9347256+0.00359085820383\n",
      "[92]\tcv-test-auc:0.8269352+0.00924796607693\tcv-train-auc:0.935444+0.00390727777359\n",
      "[93]\tcv-test-auc:0.8273568+0.00946769013857\tcv-train-auc:0.9365006+0.00288804089999\n",
      "[94]\tcv-test-auc:0.8270546+0.00951387287281\tcv-train-auc:0.9370514+0.00307909198304\n",
      "[95]\tcv-test-auc:0.8269146+0.00956607615692\tcv-train-auc:0.9374742+0.00300920291107\n",
      "[96]\tcv-test-auc:0.8268296+0.00938142312445\tcv-train-auc:0.9385282+0.00265851186945\n",
      "[97]\tcv-test-auc:0.8263538+0.00950004036623\tcv-train-auc:0.9394156+0.00291795857407\n",
      "[98]\tcv-test-auc:0.8259244+0.00931122098546\tcv-train-auc:0.9398406+0.00287937580736\n",
      "[99]\tcv-test-auc:0.8253264+0.00977041046425\tcv-train-auc:0.9409988+0.00250812642425\n",
      "[100]\tcv-test-auc:0.824892+0.00968334246012\tcv-train-auc:0.941762+0.0024541448205\n",
      "[101]\tcv-test-auc:0.8250272+0.0100603648522\tcv-train-auc:0.9426434+0.0020244810298\n",
      "[102]\tcv-test-auc:0.8251778+0.0101886325756\tcv-train-auc:0.9431862+0.00191986159918\n",
      "[103]\tcv-test-auc:0.824711+0.00986605641581\tcv-train-auc:0.9440854+0.00167868062478\n",
      "[104]\tcv-test-auc:0.8243934+0.00993936296953\tcv-train-auc:0.9448316+0.0015099114676\n",
      "[105]\tcv-test-auc:0.8238494+0.00975444701867\tcv-train-auc:0.9460496+0.00174714207779\n",
      "[106]\tcv-test-auc:0.8238706+0.0095611968414\tcv-train-auc:0.9466814+0.00219094250039\n",
      "[107]\tcv-test-auc:0.8237336+0.00982193808981\tcv-train-auc:0.9476318+0.0021750033931\n",
      "[108]\tcv-test-auc:0.823805+0.010002760459\tcv-train-auc:0.9487458+0.00231300751404\n",
      "[109]\tcv-test-auc:0.8233702+0.0100593948605\tcv-train-auc:0.9493104+0.00237825167718\n",
      "[110]\tcv-test-auc:0.8237456+0.00975675928985\tcv-train-auc:0.94995+0.00262875887065\n",
      "[111]\tcv-test-auc:0.8240558+0.010345184646\tcv-train-auc:0.9507608+0.00229698092286\n",
      "[112]\tcv-test-auc:0.8237312+0.0105079851427\tcv-train-auc:0.9515648+0.00229468467551\n",
      "[113]\tcv-test-auc:0.8235566+0.0102363607322\tcv-train-auc:0.951792+0.00235594032182\n",
      "[114]\tcv-test-auc:0.8233272+0.0104786887424\tcv-train-auc:0.9525856+0.00215097769398\n",
      "[115]\tcv-test-auc:0.823202+0.0106900650887\tcv-train-auc:0.9532978+0.00185185738112\n",
      "[116]\tcv-test-auc:0.8236992+0.0103972052091\tcv-train-auc:0.9541128+0.00206403937947\n",
      "[117]\tcv-test-auc:0.8237168+0.0102311997811\tcv-train-auc:0.95511+0.00189417792195\n",
      "[118]\tcv-test-auc:0.8235612+0.0106815952254\tcv-train-auc:0.955649+0.00205600116731\n",
      "[119]\tcv-test-auc:0.8229868+0.0103332705452\tcv-train-auc:0.9567284+0.00199784650061\n",
      "[120]\tcv-test-auc:0.8224062+0.010918260693\tcv-train-auc:0.957294+0.00196200142711\n",
      "[121]\tcv-test-auc:0.8221654+0.0108792935175\tcv-train-auc:0.957663+0.00185003816177\n",
      "[122]\tcv-test-auc:0.8219356+0.0112198955539\tcv-train-auc:0.957871+0.00194630182654\n",
      "[123]\tcv-test-auc:0.821706+0.0103507693047\tcv-train-auc:0.9586658+0.00151004640988\n",
      "[124]\tcv-test-auc:0.8221094+0.0105196780293\tcv-train-auc:0.9595826+0.00183055386154\n",
      "[125]\tcv-test-auc:0.821833+0.0104408918201\tcv-train-auc:0.9600544+0.00181387999603\n",
      "[126]\tcv-test-auc:0.8217672+0.0103247062796\tcv-train-auc:0.9603118+0.00197469171265\n",
      "[127]\tcv-test-auc:0.822788+0.0105086250861\tcv-train-auc:0.960809+0.00210618175854\n",
      "[128]\tcv-test-auc:0.822907+0.0102619997661\tcv-train-auc:0.961536+0.00177317083215\n",
      "[129]\tcv-test-auc:0.822519+0.0101945586074\tcv-train-auc:0.9623326+0.00229564070359\n",
      "[130]\tcv-test-auc:0.8224104+0.0101344742656\tcv-train-auc:0.9629582+0.00183678037882\n",
      "[131]\tcv-test-auc:0.8225724+0.0103557284939\tcv-train-auc:0.9633024+0.00173560820464\n",
      "[132]\tcv-test-auc:0.8228378+0.0103448506881\tcv-train-auc:0.963689+0.00172617971254\n",
      "[133]\tcv-test-auc:0.8225784+0.0108466077757\tcv-train-auc:0.9642382+0.00165179688824\n",
      "[134]\tcv-test-auc:0.8222912+0.0105882966411\tcv-train-auc:0.9648306+0.00154270575289\n",
      "[135]\tcv-test-auc:0.8218638+0.0104575702034\tcv-train-auc:0.965234+0.00143566068415\n",
      "[136]\tcv-test-auc:0.8221276+0.00954074094817\tcv-train-auc:0.9659658+0.00149467633955\n",
      "[137]\tcv-test-auc:0.8227142+0.00932110380588\tcv-train-auc:0.9665338+0.0016397124626\n",
      "[138]\tcv-test-auc:0.822557+0.00941090990287\tcv-train-auc:0.9670968+0.00179456138374\n",
      "[139]\tcv-test-auc:0.8231538+0.00895624891124\tcv-train-auc:0.9673098+0.0018179101628\n",
      "[140]\tcv-test-auc:0.822562+0.00941606796917\tcv-train-auc:0.9678076+0.00179247935553\n",
      "[141]\tcv-test-auc:0.822607+0.00959756073177\tcv-train-auc:0.9682686+0.00159121797375\n",
      "[142]\tcv-test-auc:0.8221788+0.0101966000098\tcv-train-auc:0.968818+0.0016864016129\n",
      "[143]\tcv-test-auc:0.8219302+0.0101369779007\tcv-train-auc:0.9691716+0.00173781732066\n",
      "[144]\tcv-test-auc:0.821303+0.0103489631751\tcv-train-auc:0.9695916+0.0020811460881\n",
      "[145]\tcv-test-auc:0.821065+0.0101240191031\tcv-train-auc:0.9697604+0.00212871732271\n",
      "[146]\tcv-test-auc:0.8207924+0.010111989015\tcv-train-auc:0.9703316+0.00177276344728\n",
      "[147]\tcv-test-auc:0.8203868+0.0098352414795\tcv-train-auc:0.9706258+0.00192778073442\n",
      "[148]\tcv-test-auc:0.8204112+0.0101461678165\tcv-train-auc:0.9710266+0.00213336556642\n",
      "[149]\tcv-test-auc:0.8201694+0.00996236589571\tcv-train-auc:0.9716964+0.00256170510403\n",
      "[150]\tcv-test-auc:0.8196926+0.0102162486775\tcv-train-auc:0.9721232+0.00257354754376\n",
      "[151]\tcv-test-auc:0.8196254+0.010250457621\tcv-train-auc:0.972941+0.00259631839342\n",
      "[152]\tcv-test-auc:0.8195096+0.0102389744916\tcv-train-auc:0.9732776+0.00247867703423\n",
      "[153]\tcv-test-auc:0.8191896+0.0105105920024\tcv-train-auc:0.973544+0.00244844832496\n",
      "[154]\tcv-test-auc:0.8188428+0.0107110437475\tcv-train-auc:0.9738356+0.00242490623324\n",
      "[155]\tcv-test-auc:0.8185842+0.0105232671999\tcv-train-auc:0.974424+0.00258952791064\n",
      "[156]\tcv-test-auc:0.81871+0.0105471355353\tcv-train-auc:0.975134+0.0025142115265\n",
      "[157]\tcv-test-auc:0.8184518+0.0105476258447\tcv-train-auc:0.9754984+0.0024043949426\n",
      "[158]\tcv-test-auc:0.8184252+0.0105966526677\tcv-train-auc:0.975668+0.00241717595553\n",
      "[159]\tcv-test-auc:0.8180438+0.0103227285424\tcv-train-auc:0.9760434+0.00249276662365\n",
      "[160]\tcv-test-auc:0.8179572+0.0104878748162\tcv-train-auc:0.9762344+0.00252995799175\n",
      "[161]\tcv-test-auc:0.8177236+0.0108004531498\tcv-train-auc:0.9764294+0.00248883101877\n",
      "[162]\tcv-test-auc:0.8178142+0.0108352538577\tcv-train-auc:0.9767228+0.00260193115974\n",
      "[163]\tcv-test-auc:0.8171208+0.0110614784798\tcv-train-auc:0.977035+0.00279731170948\n",
      "[164]\tcv-test-auc:0.8167644+0.010831323439\tcv-train-auc:0.9772756+0.00279564894792\n",
      "[165]\tcv-test-auc:0.8167224+0.010998066932\tcv-train-auc:0.9774968+0.00286535019849\n",
      "[166]\tcv-test-auc:0.8169632+0.0108815622298\tcv-train-auc:0.9777506+0.0027256183592\n",
      "[167]\tcv-test-auc:0.8171946+0.0103083481431\tcv-train-auc:0.9779172+0.00272359508004\n",
      "[168]\tcv-test-auc:0.8174458+0.00993728845108\tcv-train-auc:0.97828+0.00260556450697\n",
      "[169]\tcv-test-auc:0.8174014+0.0101836590791\tcv-train-auc:0.978707+0.00275264723494\n",
      "[170]\tcv-test-auc:0.8173842+0.0102588841187\tcv-train-auc:0.9789024+0.0027809192437\n",
      "[171]\tcv-test-auc:0.8174952+0.0103423058048\tcv-train-auc:0.9791928+0.00299840500266\n",
      "[172]\tcv-test-auc:0.817438+0.010132217625\tcv-train-auc:0.9795178+0.00285379483495\n",
      "[173]\tcv-test-auc:0.8174548+0.0101196539348\tcv-train-auc:0.9798778+0.00294520935758\n",
      "[174]\tcv-test-auc:0.8177182+0.0102448872986\tcv-train-auc:0.9800154+0.00294369954989\n",
      "[175]\tcv-test-auc:0.8172294+0.0104394813013\tcv-train-auc:0.980185+0.00293520309348\n",
      "[176]\tcv-test-auc:0.8172496+0.0101593108349\tcv-train-auc:0.980413+0.0029861726005\n",
      "[177]\tcv-test-auc:0.8171696+0.0107448628954\tcv-train-auc:0.9806562+0.00284215941847\n",
      "[178]\tcv-test-auc:0.8173204+0.0106149425924\tcv-train-auc:0.9807854+0.00278336872153\n",
      "[179]\tcv-test-auc:0.81705+0.0104653952243\tcv-train-auc:0.980961+0.00279736454542\n",
      "[180]\tcv-test-auc:0.8170492+0.0106832417814\tcv-train-auc:0.9811162+0.00277307543352\n"
     ]
    },
    {
     "ename": "KeyboardInterrupt",
     "evalue": "",
     "output_type": "error",
     "traceback": [
      "\u001b[0;31m---------------------------------------------------------------------------\u001b[0m",
      "\u001b[0;31mKeyboardInterrupt\u001b[0m                         Traceback (most recent call last)",
      "\u001b[0;32m<ipython-input-76-004765fcf9f4>\u001b[0m in \u001b[0;36m<module>\u001b[0;34m()\u001b[0m\n\u001b[0;32m----> 1\u001b[0;31m \u001b[0mmodelfit\u001b[0m\u001b[0;34m(\u001b[0m\u001b[0mxgb1\u001b[0m\u001b[0;34m,\u001b[0m \u001b[0mtrain\u001b[0m\u001b[0;34m,\u001b[0m \u001b[0mpredictors\u001b[0m\u001b[0;34m)\u001b[0m\u001b[0;34m\u001b[0m\u001b[0m\n\u001b[0m",
      "\u001b[0;32m<ipython-input-69-fcfb18b94605>\u001b[0m in \u001b[0;36mmodelfit\u001b[0;34m(alg, dtrain, predictors, useTrainCV, cv_folds)\u001b[0m\n\u001b[1;32m      7\u001b[0m         \u001b[0mxgtrain\u001b[0m \u001b[0;34m=\u001b[0m \u001b[0mxgb\u001b[0m\u001b[0;34m.\u001b[0m\u001b[0mDMatrix\u001b[0m\u001b[0;34m(\u001b[0m\u001b[0mdtrain\u001b[0m\u001b[0;34m[\u001b[0m\u001b[0mpredictors\u001b[0m\u001b[0;34m]\u001b[0m\u001b[0;34m.\u001b[0m\u001b[0mvalues\u001b[0m\u001b[0;34m,\u001b[0m \u001b[0mlabel\u001b[0m\u001b[0;34m=\u001b[0m\u001b[0mdtrain\u001b[0m\u001b[0;34m[\u001b[0m\u001b[0mtarget\u001b[0m\u001b[0;34m]\u001b[0m\u001b[0;34m.\u001b[0m\u001b[0mvalues\u001b[0m\u001b[0;34m)\u001b[0m\u001b[0;34m\u001b[0m\u001b[0m\n\u001b[1;32m      8\u001b[0m         cvresult = xgb.cv(xgb_param, xgtrain, num_boost_round=alg.get_params()['n_estimators'], nfold=cv_folds,\n\u001b[0;32m----> 9\u001b[0;31m             metrics={'auc'}, show_progress=True)\n\u001b[0m\u001b[1;32m     10\u001b[0m         \u001b[0malg\u001b[0m\u001b[0;34m.\u001b[0m\u001b[0mset_params\u001b[0m\u001b[0;34m(\u001b[0m\u001b[0mn_estimators\u001b[0m\u001b[0;34m=\u001b[0m\u001b[0mcvresult\u001b[0m\u001b[0;34m.\u001b[0m\u001b[0mshape\u001b[0m\u001b[0;34m[\u001b[0m\u001b[0;36m0\u001b[0m\u001b[0;34m]\u001b[0m\u001b[0;34m)\u001b[0m\u001b[0;34m\u001b[0m\u001b[0m\n\u001b[1;32m     11\u001b[0m \u001b[0;34m\u001b[0m\u001b[0m\n",
      "\u001b[0;32m/Users/bchowdhu/anaconda/lib/python2.7/site-packages/xgboost/training.pyc\u001b[0m in \u001b[0;36mcv\u001b[0;34m(params, dtrain, num_boost_round, nfold, metrics, obj, feval, maximize, early_stopping_rounds, fpreproc, as_pandas, show_progress, show_stdv, seed)\u001b[0m\n\u001b[1;32m    416\u001b[0m     \u001b[0;32mfor\u001b[0m \u001b[0mi\u001b[0m \u001b[0;32min\u001b[0m \u001b[0mrange\u001b[0m\u001b[0;34m(\u001b[0m\u001b[0mnum_boost_round\u001b[0m\u001b[0;34m)\u001b[0m\u001b[0;34m:\u001b[0m\u001b[0;34m\u001b[0m\u001b[0m\n\u001b[1;32m    417\u001b[0m         \u001b[0;32mfor\u001b[0m \u001b[0mfold\u001b[0m \u001b[0;32min\u001b[0m \u001b[0mcvfolds\u001b[0m\u001b[0;34m:\u001b[0m\u001b[0;34m\u001b[0m\u001b[0m\n\u001b[0;32m--> 418\u001b[0;31m             \u001b[0mfold\u001b[0m\u001b[0;34m.\u001b[0m\u001b[0mupdate\u001b[0m\u001b[0;34m(\u001b[0m\u001b[0mi\u001b[0m\u001b[0;34m,\u001b[0m \u001b[0mobj\u001b[0m\u001b[0;34m)\u001b[0m\u001b[0;34m\u001b[0m\u001b[0m\n\u001b[0m\u001b[1;32m    419\u001b[0m         res = aggcv([f.eval(i, feval) for f in cvfolds],\n\u001b[1;32m    420\u001b[0m                     \u001b[0mshow_stdv\u001b[0m\u001b[0;34m=\u001b[0m\u001b[0mshow_stdv\u001b[0m\u001b[0;34m,\u001b[0m \u001b[0mshow_progress\u001b[0m\u001b[0;34m=\u001b[0m\u001b[0mshow_progress\u001b[0m\u001b[0;34m,\u001b[0m\u001b[0;34m\u001b[0m\u001b[0m\n",
      "\u001b[0;32m/Users/bchowdhu/anaconda/lib/python2.7/site-packages/xgboost/training.pyc\u001b[0m in \u001b[0;36mupdate\u001b[0;34m(self, iteration, fobj)\u001b[0m\n\u001b[1;32m    255\u001b[0m     \u001b[0;32mdef\u001b[0m \u001b[0mupdate\u001b[0m\u001b[0;34m(\u001b[0m\u001b[0mself\u001b[0m\u001b[0;34m,\u001b[0m \u001b[0miteration\u001b[0m\u001b[0;34m,\u001b[0m \u001b[0mfobj\u001b[0m\u001b[0;34m)\u001b[0m\u001b[0;34m:\u001b[0m\u001b[0;34m\u001b[0m\u001b[0m\n\u001b[1;32m    256\u001b[0m         \u001b[0;34m\"\"\"\"Update the boosters for one iteration\"\"\"\u001b[0m\u001b[0;34m\u001b[0m\u001b[0m\n\u001b[0;32m--> 257\u001b[0;31m         \u001b[0mself\u001b[0m\u001b[0;34m.\u001b[0m\u001b[0mbst\u001b[0m\u001b[0;34m.\u001b[0m\u001b[0mupdate\u001b[0m\u001b[0;34m(\u001b[0m\u001b[0mself\u001b[0m\u001b[0;34m.\u001b[0m\u001b[0mdtrain\u001b[0m\u001b[0;34m,\u001b[0m \u001b[0miteration\u001b[0m\u001b[0;34m,\u001b[0m \u001b[0mfobj\u001b[0m\u001b[0;34m)\u001b[0m\u001b[0;34m\u001b[0m\u001b[0m\n\u001b[0m\u001b[1;32m    258\u001b[0m \u001b[0;34m\u001b[0m\u001b[0m\n\u001b[1;32m    259\u001b[0m     \u001b[0;32mdef\u001b[0m \u001b[0meval\u001b[0m\u001b[0;34m(\u001b[0m\u001b[0mself\u001b[0m\u001b[0;34m,\u001b[0m \u001b[0miteration\u001b[0m\u001b[0;34m,\u001b[0m \u001b[0mfeval\u001b[0m\u001b[0;34m)\u001b[0m\u001b[0;34m:\u001b[0m\u001b[0;34m\u001b[0m\u001b[0m\n",
      "\u001b[0;32m/Users/bchowdhu/anaconda/lib/python2.7/site-packages/xgboost/core.pyc\u001b[0m in \u001b[0;36mupdate\u001b[0;34m(self, dtrain, iteration, fobj)\u001b[0m\n\u001b[1;32m    692\u001b[0m \u001b[0;34m\u001b[0m\u001b[0m\n\u001b[1;32m    693\u001b[0m         \u001b[0;32mif\u001b[0m \u001b[0mfobj\u001b[0m \u001b[0;32mis\u001b[0m \u001b[0mNone\u001b[0m\u001b[0;34m:\u001b[0m\u001b[0;34m\u001b[0m\u001b[0m\n\u001b[0;32m--> 694\u001b[0;31m             \u001b[0m_check_call\u001b[0m\u001b[0;34m(\u001b[0m\u001b[0m_LIB\u001b[0m\u001b[0;34m.\u001b[0m\u001b[0mXGBoosterUpdateOneIter\u001b[0m\u001b[0;34m(\u001b[0m\u001b[0mself\u001b[0m\u001b[0;34m.\u001b[0m\u001b[0mhandle\u001b[0m\u001b[0;34m,\u001b[0m \u001b[0miteration\u001b[0m\u001b[0;34m,\u001b[0m \u001b[0mdtrain\u001b[0m\u001b[0;34m.\u001b[0m\u001b[0mhandle\u001b[0m\u001b[0;34m)\u001b[0m\u001b[0;34m)\u001b[0m\u001b[0;34m\u001b[0m\u001b[0m\n\u001b[0m\u001b[1;32m    695\u001b[0m         \u001b[0;32melse\u001b[0m\u001b[0;34m:\u001b[0m\u001b[0;34m\u001b[0m\u001b[0m\n\u001b[1;32m    696\u001b[0m             \u001b[0mpred\u001b[0m \u001b[0;34m=\u001b[0m \u001b[0mself\u001b[0m\u001b[0;34m.\u001b[0m\u001b[0mpredict\u001b[0m\u001b[0;34m(\u001b[0m\u001b[0mdtrain\u001b[0m\u001b[0;34m)\u001b[0m\u001b[0;34m\u001b[0m\u001b[0m\n",
      "\u001b[0;31mKeyboardInterrupt\u001b[0m: "
     ]
    }
   ],
   "source": [
    "modelfit(xgb1, train, predictors)"
   ]
  },
  {
   "cell_type": "code",
   "execution_count": 77,
   "metadata": {
    "collapsed": false
   },
   "outputs": [
    {
     "data": {
      "text/plain": [
       "([mean: 0.82258, std: 0.02175, params: {'max_depth': 3, 'min_child_weight': 1},\n",
       "  mean: 0.82376, std: 0.02166, params: {'max_depth': 3, 'min_child_weight': 3},\n",
       "  mean: 0.82295, std: 0.01951, params: {'max_depth': 3, 'min_child_weight': 5},\n",
       "  mean: 0.81845, std: 0.02008, params: {'max_depth': 5, 'min_child_weight': 1},\n",
       "  mean: 0.81806, std: 0.02289, params: {'max_depth': 5, 'min_child_weight': 3},\n",
       "  mean: 0.81824, std: 0.02185, params: {'max_depth': 5, 'min_child_weight': 5},\n",
       "  mean: 0.81210, std: 0.01975, params: {'max_depth': 7, 'min_child_weight': 1},\n",
       "  mean: 0.81173, std: 0.02396, params: {'max_depth': 7, 'min_child_weight': 3},\n",
       "  mean: 0.81173, std: 0.01931, params: {'max_depth': 7, 'min_child_weight': 5},\n",
       "  mean: 0.80455, std: 0.02069, params: {'max_depth': 9, 'min_child_weight': 1},\n",
       "  mean: 0.80872, std: 0.02227, params: {'max_depth': 9, 'min_child_weight': 3},\n",
       "  mean: 0.80949, std: 0.02194, params: {'max_depth': 9, 'min_child_weight': 5}],\n",
       " {'max_depth': 3, 'min_child_weight': 3},\n",
       " 0.82375763968986426)"
      ]
     },
     "execution_count": 77,
     "metadata": {},
     "output_type": "execute_result"
    }
   ],
   "source": [
    "param_test1 = {\n",
    " 'max_depth':range(3,10,2),\n",
    " 'min_child_weight':range(1,6,2)\n",
    "}\n",
    "gsearch1 = GridSearchCV(estimator = XGBClassifier( learning_rate =0.1, n_estimators=140, max_depth=5,\n",
    " min_child_weight=1, gamma=0, subsample=0.8, colsample_bytree=0.8,\n",
    " objective= 'binary:logistic', nthread=4, scale_pos_weight=1, seed=27), \n",
    " param_grid = param_test1, scoring='roc_auc',n_jobs=4,iid=False, cv=5)\n",
    "gsearch1.fit(train[catecorical_cols],train[target])\n",
    "gsearch1.grid_scores_, gsearch1.best_params_, gsearch1.best_score_"
   ]
  },
  {
   "cell_type": "code",
   "execution_count": 78,
   "metadata": {
    "collapsed": false
   },
   "outputs": [
    {
     "data": {
      "text/plain": [
       "([mean: 0.80700, std: 0.02283, params: {'max_depth': 2, 'min_child_weight': 2},\n",
       "  mean: 0.80726, std: 0.02270, params: {'max_depth': 2, 'min_child_weight': 3},\n",
       "  mean: 0.80555, std: 0.02323, params: {'max_depth': 2, 'min_child_weight': 4},\n",
       "  mean: 0.80049, std: 0.01874, params: {'max_depth': 3, 'min_child_weight': 2},\n",
       "  mean: 0.80522, std: 0.01901, params: {'max_depth': 3, 'min_child_weight': 3},\n",
       "  mean: 0.80277, std: 0.02012, params: {'max_depth': 3, 'min_child_weight': 4},\n",
       "  mean: 0.79305, std: 0.01904, params: {'max_depth': 4, 'min_child_weight': 2},\n",
       "  mean: 0.79767, std: 0.01851, params: {'max_depth': 4, 'min_child_weight': 3},\n",
       "  mean: 0.79762, std: 0.01933, params: {'max_depth': 4, 'min_child_weight': 4}],\n",
       " {'max_depth': 2, 'min_child_weight': 3},\n",
       " 0.80726445765125932)"
      ]
     },
     "execution_count": 78,
     "metadata": {},
     "output_type": "execute_result"
    }
   ],
   "source": [
    "param_test2 = {\n",
    " 'max_depth':[2,3,4],\n",
    " 'min_child_weight':[2,3,4]\n",
    "}\n",
    "gsearch2 = GridSearchCV(estimator = XGBClassifier( learning_rate=0.1, n_estimators=140, max_depth=3,\n",
    " min_child_weight=3, gamma=0, subsample=0.8, colsample_bytree=0.8,\n",
    " objective= 'binary:logistic', nthread=4, scale_pos_weight=1,seed=27), \n",
    " param_grid = param_test2, scoring='roc_auc',n_jobs=4,iid=False, cv=5)\n",
    "gsearch2.fit(train[predictors],train[target])\n",
    "gsearch2.grid_scores_, gsearch2.best_params_, gsearch2.best_score_"
   ]
  },
  {
   "cell_type": "code",
   "execution_count": 425,
   "metadata": {
    "collapsed": false
   },
   "outputs": [
    {
     "data": {
      "text/plain": [
       "([mean: 0.83195, std: 0.01756, params: {'gamma': 0.0},\n",
       "  mean: 0.83195, std: 0.01766, params: {'gamma': 0.1},\n",
       "  mean: 0.83195, std: 0.01767, params: {'gamma': 0.2},\n",
       "  mean: 0.83199, std: 0.01765, params: {'gamma': 0.3},\n",
       "  mean: 0.83186, std: 0.01789, params: {'gamma': 0.4}],\n",
       " {'gamma': 0.3},\n",
       " 0.83198670159251376)"
      ]
     },
     "execution_count": 425,
     "metadata": {},
     "output_type": "execute_result"
    }
   ],
   "source": [
    "param_test3 = {\n",
    " 'gamma':[i/10.0 for i in range(0,5)]\n",
    "}\n",
    "gsearch3 = GridSearchCV(estimator = XGBClassifier( learning_rate =0.1, n_estimators=140, max_depth=2,\n",
    " min_child_weight=3, gamma=0, subsample=0.8, colsample_bytree=0.8,\n",
    " objective= 'binary:logistic', nthread=4, scale_pos_weight=1,seed=27), \n",
    " param_grid = param_test3, scoring='roc_auc',n_jobs=4,iid=False, cv=5)\n",
    "gsearch3.fit(train[predictors],train[target])\n",
    "gsearch3.grid_scores_, gsearch3.best_params_, gsearch3.best_score_"
   ]
  },
  {
   "cell_type": "code",
   "execution_count": 427,
   "metadata": {
    "collapsed": false
   },
   "outputs": [
    {
     "data": {
      "text/plain": [
       "([mean: 0.82945, std: 0.01836, params: {'subsample': 0.6, 'colsample_bytree': 0.6},\n",
       "  mean: 0.83168, std: 0.01939, params: {'subsample': 0.7, 'colsample_bytree': 0.6},\n",
       "  mean: 0.83344, std: 0.01834, params: {'subsample': 0.8, 'colsample_bytree': 0.6},\n",
       "  mean: 0.83171, std: 0.01749, params: {'subsample': 0.9, 'colsample_bytree': 0.6},\n",
       "  mean: 0.82796, std: 0.01754, params: {'subsample': 0.6, 'colsample_bytree': 0.7},\n",
       "  mean: 0.83196, std: 0.01768, params: {'subsample': 0.7, 'colsample_bytree': 0.7},\n",
       "  mean: 0.83286, std: 0.01713, params: {'subsample': 0.8, 'colsample_bytree': 0.7},\n",
       "  mean: 0.83097, std: 0.01696, params: {'subsample': 0.9, 'colsample_bytree': 0.7},\n",
       "  mean: 0.82830, std: 0.01722, params: {'subsample': 0.6, 'colsample_bytree': 0.8},\n",
       "  mean: 0.83168, std: 0.01703, params: {'subsample': 0.7, 'colsample_bytree': 0.8},\n",
       "  mean: 0.83199, std: 0.01765, params: {'subsample': 0.8, 'colsample_bytree': 0.8},\n",
       "  mean: 0.83158, std: 0.01752, params: {'subsample': 0.9, 'colsample_bytree': 0.8},\n",
       "  mean: 0.83052, std: 0.01744, params: {'subsample': 0.6, 'colsample_bytree': 0.9},\n",
       "  mean: 0.83248, std: 0.01729, params: {'subsample': 0.7, 'colsample_bytree': 0.9},\n",
       "  mean: 0.83246, std: 0.01812, params: {'subsample': 0.8, 'colsample_bytree': 0.9},\n",
       "  mean: 0.83008, std: 0.01929, params: {'subsample': 0.9, 'colsample_bytree': 0.9}],\n",
       " {'colsample_bytree': 0.6, 'subsample': 0.8},\n",
       " 0.83343906864116035)"
      ]
     },
     "execution_count": 427,
     "metadata": {},
     "output_type": "execute_result"
    }
   ],
   "source": [
    "param_test4 = {\n",
    " 'subsample':[i/10.0 for i in range(6,10)],\n",
    " 'colsample_bytree':[i/10.0 for i in range(6,10)]\n",
    "}\n",
    "gsearch4 = GridSearchCV(estimator = XGBClassifier( learning_rate =0.1, n_estimators=140, max_depth=2,\n",
    " min_child_weight=3, gamma=.3, subsample=0.8, colsample_bytree=0.8,\n",
    " objective= 'binary:logistic', nthread=4, scale_pos_weight=1,seed=27), \n",
    " param_grid = param_test4, scoring='roc_auc',n_jobs=4,iid=False, cv=5)\n",
    "gsearch4.fit(train[predictors],train[target])\n",
    "gsearch4.grid_scores_, gsearch4.best_params_, gsearch4.best_score_"
   ]
  },
  {
   "cell_type": "code",
   "execution_count": 428,
   "metadata": {
    "collapsed": false
   },
   "outputs": [
    {
     "data": {
      "text/plain": [
       "([mean: 0.83344, std: 0.01834, params: {'reg_alpha': 1e-05},\n",
       "  mean: 0.83361, std: 0.01821, params: {'reg_alpha': 0.01},\n",
       "  mean: 0.83325, std: 0.01857, params: {'reg_alpha': 0.1},\n",
       "  mean: 0.83243, std: 0.01826, params: {'reg_alpha': 1},\n",
       "  mean: 0.75911, std: 0.02366, params: {'reg_alpha': 100}],\n",
       " {'reg_alpha': 0.01},\n",
       " 0.83361218484623811)"
      ]
     },
     "execution_count": 428,
     "metadata": {},
     "output_type": "execute_result"
    }
   ],
   "source": [
    "param_test6 = {\n",
    " 'reg_alpha':[1e-5, 1e-2, 0.1, 1, 100]\n",
    "}\n",
    "gsearch6 = GridSearchCV(estimator = XGBClassifier( learning_rate =0.1, n_estimators=140, max_depth=2,\n",
    " min_child_weight=3, gamma=.3, subsample=0.8, colsample_bytree=0.6,\n",
    " objective= 'binary:logistic', nthread=4, scale_pos_weight=1,seed=27), \n",
    " param_grid = param_test6, scoring='roc_auc',n_jobs=4,iid=False, cv=5)\n",
    "gsearch6.fit(train[predictors],train[target])\n",
    "gsearch6.grid_scores_, gsearch6.best_params_, gsearch6.best_score_"
   ]
  },
  {
   "cell_type": "code",
   "execution_count": 429,
   "metadata": {
    "collapsed": false
   },
   "outputs": [
    {
     "data": {
      "text/plain": [
       "([mean: 0.83344, std: 0.01834, params: {'reg_alpha': 0},\n",
       "  mean: 0.83358, std: 0.01824, params: {'reg_alpha': 0.001},\n",
       "  mean: 0.83355, std: 0.01832, params: {'reg_alpha': 0.005},\n",
       "  mean: 0.83361, std: 0.01821, params: {'reg_alpha': 0.01},\n",
       "  mean: 0.83374, std: 0.01826, params: {'reg_alpha': 0.05}],\n",
       " {'reg_alpha': 0.05},\n",
       " 0.83373754033092062)"
      ]
     },
     "execution_count": 429,
     "metadata": {},
     "output_type": "execute_result"
    }
   ],
   "source": [
    "param_test7 = {\n",
    " 'reg_alpha':[0, 0.001, 0.005, 0.01, 0.05]\n",
    "}\n",
    "gsearch7 = GridSearchCV(estimator = XGBClassifier( learning_rate =0.1, n_estimators=140, max_depth=2,\n",
    " min_child_weight=3, gamma=.3, subsample=0.8, colsample_bytree=0.6,\n",
    " objective= 'binary:logistic', nthread=4, scale_pos_weight=1,seed=27), \n",
    " param_grid = param_test7, scoring='roc_auc',n_jobs=4,iid=False, cv=5)\n",
    "gsearch7.fit(train[predictors],train[predictors])\n",
    "gsearch7.grid_scores_, gsearch7.best_params_, gsearch7.best_score_"
   ]
  },
  {
   "cell_type": "code",
   "execution_count": 430,
   "metadata": {
    "collapsed": true
   },
   "outputs": [],
   "source": [
    "estimator = XGBClassifier( learning_rate =0.01, n_estimators=5000, max_depth=2,\n",
    " min_child_weight=3, gamma=.3, subsample=0.8, colsample_bytree=0.6, reg_alpha=0.05,\n",
    " objective= 'binary:logistic', nthread=4, scale_pos_weight=1,seed=27)"
   ]
  },
  {
   "cell_type": "code",
   "execution_count": 432,
   "metadata": {
    "collapsed": true
   },
   "outputs": [],
   "source": [
    "from sklearn import cross_validation"
   ]
  },
  {
   "cell_type": "code",
   "execution_count": 434,
   "metadata": {
    "collapsed": false
   },
   "outputs": [
    {
     "name": "stdout",
     "output_type": "stream",
     "text": [
      "mean: 0.826408, std: 0.016814\n"
     ]
    }
   ],
   "source": [
    "scores = cross_validation.cross_val_score(estimator, train[predictors], train[target], cv=5, scoring='roc_auc')\n",
    "print \"mean: %f, std: %f\" %(np.mean(scores),np.std(scores))"
   ]
  },
  {
   "cell_type": "code",
   "execution_count": null,
   "metadata": {
    "collapsed": true
   },
   "outputs": [],
   "source": [
    "\n",
    "\n",
    "\n",
    "\n",
    "\n",
    "\n",
    "\n",
    "\n",
    "\n",
    "GridSearchCV(estimator = XGBClassifier( learning_rate =0.1, n_estimators=140, max_depth=2,\n",
    " min_child_weight=3, gamma=.3, subsample=0.8, colsample_bytree=0.6,\n",
    " objective= 'binary:logistic', nthread=4, scale_pos_weight=1,seed=27), \n",
    " param_grid = param_test7, scoring='roc_auc',n_jobs=4,iid=False, cv=5)"
   ]
  }
 ],
 "metadata": {
  "kernelspec": {
   "display_name": "Python 2",
   "language": "python",
   "name": "python2"
  },
  "language_info": {
   "codemirror_mode": {
    "name": "ipython",
    "version": 2
   },
   "file_extension": ".py",
   "mimetype": "text/x-python",
   "name": "python",
   "nbconvert_exporter": "python",
   "pygments_lexer": "ipython2",
   "version": "2.7.11"
  }
 },
 "nbformat": 4,
 "nbformat_minor": 0
}
