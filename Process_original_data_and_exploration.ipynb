{
 "cells": [
  {
   "cell_type": "code",
   "execution_count": 1,
   "metadata": {
    "collapsed": false
   },
   "outputs": [],
   "source": [
    "import numpy as np\n",
    "import pandas as pd\n",
    "import datetime\n",
    "import matplotlib.pyplot as plt\n",
    "%matplotlib inline\n",
    "import IPython.core.pylabtools as pylabtools\n",
    "import scipy.stats\n",
    "\n",
    "import seaborn as sns\n",
    "\n",
    "def mask_data(data,*args):\n",
    "    mask_and=np.array(args).all(0)\n",
    "    return data[mask_and]"
   ]
  },
  {
   "cell_type": "markdown",
   "metadata": {},
   "source": [
    "# [Need only run the first time]\n",
    "\n",
    "\n",
    "# Load Data from a csv version of the original data and convert the intervention date and time information to pandas format and then save\n",
    "\n",
    "** This is time consuming so saving it once and for all is useful **\n",
    "\n",
    "** I could drop the original variables but I want the stored data to be compatible with others' code so do not do so **"
   ]
  },
  {
   "cell_type": "code",
   "execution_count": null,
   "metadata": {
    "collapsed": true
   },
   "outputs": [],
   "source": [
    "# Read original data stored as\n",
    "original_data_file=\"hackdata.csv\" \n",
    "data=pd.read_csv(original_data_file)\n",
    "\n",
    "# drop the data that contains no information of the date of call\n",
    "data.drop(data[pd.isnull(data.FIPDATEINTERVENTIONYYYY)].index,inplace=True)\n",
    "\n",
    "# convert the date to pandas datetime format for easy manipulation\n",
    "data['date']=pd.to_datetime(data.FIPDATEINTERVENTION)\n",
    "\n",
    "# create a variable for day of week. this is contained in the original data but I calculate it using pandas to avoid\n",
    "# any mistake the original data contains. all the information we need is after all complete contained in 'FIPDATEINTERVENTION'\n",
    "# and 'FIPHEUREALARME'\n",
    "\n",
    "data['day']=map(lambda x: pd.datetime.weekday(x),data.date)\n",
    "\n",
    "# convert the time of call to pandas datetime format\n",
    "times=pd.to_datetime(data.FIPHEUREALARME)\n",
    "\n",
    "# convert the minutes part to fractional hours and record time in hours\n",
    "data['time']=map(lambda x: pd.datetime.time(x).hour + pd.datetime.time(x).minute/60.0,times)\n",
    "\n",
    "# create a new variable for month. again contained in the orignial data but I calculate it from the date\n",
    "data['month']=map(lambda x: x.month,data.date)\n",
    "\n",
    "# store the data\n",
    "data.to_csv(\"processed_data.csv\",index=False)"
   ]
  },
  {
   "cell_type": "markdown",
   "metadata": {},
   "source": [
    "# If not running for the first time, this is the place to start"
   ]
  },
  {
   "cell_type": "code",
   "execution_count": 2,
   "metadata": {
    "collapsed": false
   },
   "outputs": [
    {
     "name": "stderr",
     "output_type": "stream",
     "text": [
      "/Users/bchowdhu/anaconda/lib/python2.7/site-packages/IPython/core/interactiveshell.py:2902: DtypeWarning: Columns (16,17,19,24,36,37,38) have mixed types. Specify dtype option on import or set low_memory=False.\n",
      "  interactivity=interactivity, compiler=compiler, result=result)\n"
     ]
    }
   ],
   "source": [
    "# Load the previously saved processed data\n",
    "data=pd.read_csv(\"processed_data.csv\")\n",
    "\n",
    "# the date variable is not loaded directly as a datetime object so convert it to the latter\n",
    "data['date']=pd.to_datetime(data.date)"
   ]
  },
  {
   "cell_type": "markdown",
   "metadata": {},
   "source": [
    "# Exploration\n",
    "\n",
    "## Check if calls are uniformly spread over the week \n",
    "\n",
    "We perform a chi square test for goodness of fit after plotting the data"
   ]
  },
  {
   "cell_type": "code",
   "execution_count": null,
   "metadata": {
    "collapsed": false
   },
   "outputs": [],
   "source": [
    "nd=pd.DataFrame({'total' : data.groupby(['day']).size()}).reset_index()\n"
   ]
  },
  {
   "cell_type": "code",
   "execution_count": null,
   "metadata": {
    "collapsed": false
   },
   "outputs": [],
   "source": [
    "plt.scatter(x=\"day\",y=\"total\",data=nd)\n",
    "plt.xlabel(\"day of week\")\n",
    "plt.ylabel(\"number of calls\")"
   ]
  },
  {
   "cell_type": "code",
   "execution_count": null,
   "metadata": {
    "collapsed": false
   },
   "outputs": [],
   "source": [
    "scipy.stats.chisquare(nd.total)"
   ]
  },
  {
   "cell_type": "markdown",
   "metadata": {},
   "source": [
    "Since the p-value is essentially zero, we can **rule out the null hypothesis**. From the graph **it seems weekends get lower calls.** **Friday also seems to stand out as getting excessive calls.** Would be useful to check time of day to see if calls are more from after office partying. "
   ]
  },
  {
   "cell_type": "markdown",
   "metadata": {},
   "source": [
    "## What about number of calls per day over the entire period?"
   ]
  },
  {
   "cell_type": "code",
   "execution_count": null,
   "metadata": {
    "collapsed": false
   },
   "outputs": [],
   "source": [
    "nd=pd.DataFrame({'total' : data.groupby(['date']).size()}).reset_index()"
   ]
  },
  {
   "cell_type": "code",
   "execution_count": null,
   "metadata": {
    "collapsed": false
   },
   "outputs": [],
   "source": [
    "nd['int_date']=(nd.date-nd.date[0])\n",
    "nd['int_date']=map(lambda x : x.days,nd.int_date)    # because some dates are missing"
   ]
  },
  {
   "cell_type": "code",
   "execution_count": null,
   "metadata": {
    "collapsed": false
   },
   "outputs": [],
   "source": [
    "plt.plot(nd.int_date,nd.total)"
   ]
  },
  {
   "cell_type": "code",
   "execution_count": null,
   "metadata": {
    "collapsed": false
   },
   "outputs": [],
   "source": [
    "scipy.stats.chisquare(nd.total)"
   ]
  },
  {
   "cell_type": "markdown",
   "metadata": {},
   "source": [
    "**We can rule out the null hypothesis that the number of a calls per day has been constant over the duration.**"
   ]
  },
  {
   "cell_type": "markdown",
   "metadata": {},
   "source": [
    "## See the effect of time of day"
   ]
  },
  {
   "cell_type": "code",
   "execution_count": null,
   "metadata": {
    "collapsed": false
   },
   "outputs": [],
   "source": [
    "data.time.hist(bins=50)"
   ]
  },
  {
   "cell_type": "markdown",
   "metadata": {},
   "source": [
    "## See the effect of trauma status and time of day"
   ]
  },
  {
   "cell_type": "code",
   "execution_count": null,
   "metadata": {
    "collapsed": false
   },
   "outputs": [],
   "source": [
    "nd=pd.DataFrame({'total' : data.groupby(['FIPTRAUMA','time_bin']).size()}).reset_index()\n",
    "nd.head()"
   ]
  },
  {
   "cell_type": "code",
   "execution_count": null,
   "metadata": {
    "collapsed": false
   },
   "outputs": [],
   "source": [
    "sns.barplot(x='time_bin',y='total',data=mask_data(nd,nd.FIPTRAUMA==2),color='blue',label=\"trauma_status=2\")\n",
    "sns.barplot(x='time_bin',y='total',data=mask_data(nd,nd.FIPTRAUMA==1),color='green',label=\"trauma_status=1\")\n",
    "plt.ylabel('')\n",
    "plt.xlabel('time')\n",
    "plt.legend()"
   ]
  },
  {
   "cell_type": "code",
   "execution_count": null,
   "metadata": {
    "collapsed": false
   },
   "outputs": [],
   "source": [
    "nd=pd.DataFrame({'total' : data.groupby(['FIPTRAUMA','day']).size()}).reset_index()\n",
    "nd.head()"
   ]
  },
  {
   "cell_type": "code",
   "execution_count": null,
   "metadata": {
    "collapsed": false
   },
   "outputs": [],
   "source": [
    "sns.barplot(x='day',y='total',data=mask_data(nd,nd.FIPTRAUMA==2),color='blue',label=\"trauma_status=2\")\n",
    "sns.barplot(x='day',y='total',data=mask_data(nd,nd.FIPTRAUMA==1),color='green',label=\"trauma_status=1\")\n",
    "plt.ylabel('')\n",
    "plt.xlabel('day')\n",
    "plt.legend()"
   ]
  },
  {
   "cell_type": "markdown",
   "metadata": {},
   "source": [
    "## See the effect of region and  time of day"
   ]
  },
  {
   "cell_type": "code",
   "execution_count": null,
   "metadata": {
    "collapsed": false
   },
   "outputs": [],
   "source": [
    "data.NOLOCALITEPRISE=np.where(data.NOLOCALITEPRISE.isnull(),6621,data.NOLOCALITEPRISE)"
   ]
  },
  {
   "cell_type": "code",
   "execution_count": null,
   "metadata": {
    "collapsed": false
   },
   "outputs": [],
   "source": [
    "regions=data.NOLOCALITEPRISE.unique()"
   ]
  },
  {
   "cell_type": "code",
   "execution_count": null,
   "metadata": {
    "collapsed": false
   },
   "outputs": [],
   "source": [
    "mask_data(data,data.NOLOCALITEPRISE==6621).time.hist()"
   ]
  },
  {
   "cell_type": "code",
   "execution_count": null,
   "metadata": {
    "collapsed": false
   },
   "outputs": [],
   "source": [
    "mask_data(data,data.NOLOCALITEPRISE==6643).time.hist()"
   ]
  },
  {
   "cell_type": "code",
   "execution_count": null,
   "metadata": {
    "collapsed": false
   },
   "outputs": [],
   "source": [
    "sect_geo_pec=data.SECT_GEO_PEC.unique()\n",
    "\n",
    "pylabtools.figsize(15,9)\n",
    "number_columns=3\n",
    "number_rows=2\n",
    "for i,j in enumerate([(i/number_columns,i%number_columns) for i in range(number_columns*number_rows)]):\n",
    "    try:\n",
    "        cond=sect_geo_pec[i]\n",
    "        plt.subplot2grid((number_rows,number_columns),j)\n",
    "        mask_data(data,data.SECT_GEO_PEC==cond).time.hist()\n",
    "        plt.title(sect_geo_pec[i])\n",
    "        plt.legend()\n",
    "    except:\n",
    "        break"
   ]
  },
  {
   "cell_type": "code",
   "execution_count": null,
   "metadata": {
    "collapsed": false
   },
   "outputs": [],
   "source": [
    "\n",
    "sect_geo_pec_2=data.SECT_GEO_2_PEC.unique()\n",
    "\n",
    "pylabtools.figsize(15,9)\n",
    "number_columns=3\n",
    "number_rows=2\n",
    "for i,j in enumerate([(i/number_columns,i%number_columns) for i in range(number_columns*number_rows)]):\n",
    "    try:\n",
    "        cond=sect_geo_pec_2[i]\n",
    "        plt.subplot2grid((number_rows,number_columns),j)\n",
    "        mask_data(data,data.SECT_GEO_2_PEC==cond).time.hist()\n",
    "        plt.title(sect_geo_pec[i])\n",
    "        plt.legend()\n",
    "    except:\n",
    "        break"
   ]
  },
  {
   "cell_type": "markdown",
   "metadata": {},
   "source": [
    "## Priority and time"
   ]
  },
  {
   "cell_type": "code",
   "execution_count": null,
   "metadata": {
    "collapsed": false
   },
   "outputs": [],
   "source": [
    "\n",
    "\n",
    "pylabtools.figsize(15,5)\n",
    "number_columns=3\n",
    "number_rows=1\n",
    "for i,j in enumerate([(i/number_columns,i%number_columns) for i in range(number_columns*number_rows)]):\n",
    "    plt.subplot2grid((number_rows,number_columns),j)\n",
    "    mask_data(data,data.NOPRIORITE==i+1).time.hist()\n",
    "    plt.title(\"Priority = %d\" % (i+1))\n",
    "    plt.legend()"
   ]
  },
  {
   "cell_type": "markdown",
   "metadata": {},
   "source": [
    "This gives some indication that non-urgenet ones peak at 10 compared to others "
   ]
  },
  {
   "cell_type": "code",
   "execution_count": null,
   "metadata": {
    "collapsed": false
   },
   "outputs": [],
   "source": [
    "\n",
    "data[data.FIPMINDELAIDEPART.isnull()]=data.FIPMINDELAIDEPART.mean()\n",
    "\n",
    "\n",
    "pylabtools.figsize(15,5)\n",
    "number_columns=3\n",
    "number_rows=1\n",
    "for i,j in enumerate([(i/number_columns,i%number_columns) for i in range(number_columns*number_rows)]):\n",
    "    plt.subplot2grid((number_rows,number_columns),j)\n",
    "    mask_data(data,data.NOPRIORITE==i+1).FIPMINDELAIDEPART.hist()\n",
    "    plt.title(\"Priority = %d\" % (i+1))\n",
    "    plt.legend()"
   ]
  },
  {
   "cell_type": "code",
   "execution_count": null,
   "metadata": {
    "collapsed": false
   },
   "outputs": [],
   "source": [
    "[mask_data(data,data.NOPRIORITE==i+1).FIPMINDELAIDEPART.max()/60.0 for i in range(3)]"
   ]
  },
  {
   "cell_type": "markdown",
   "metadata": {},
   "source": [
    "### Sometimes they leave in 1 day??"
   ]
  },
  {
   "cell_type": "markdown",
   "metadata": {},
   "source": [
    "## Score by gravity"
   ]
  },
  {
   "cell_type": "code",
   "execution_count": null,
   "metadata": {
    "collapsed": false
   },
   "outputs": [],
   "source": [
    "data[data.NONACA.isnull()]=data.NONACA.mean()\n",
    "data['NONACA']=map(lambda x: int(x),data.NONACA)\n",
    "\n",
    "pylabtools.figsize(15,10)\n",
    "number_columns=3\n",
    "number_rows=4\n",
    "for i,j in enumerate([(i/number_columns,i%number_columns) for i in range(number_columns*number_rows)]):\n",
    "    plt.subplot2grid((number_rows,number_columns),j)\n",
    "    mask_data(data,data.NONACA==i).time.hist()\n",
    "    plt.title(\"Priority = %d\" % (i))\n",
    "    plt.legend()"
   ]
  },
  {
   "cell_type": "code",
   "execution_count": null,
   "metadata": {
    "collapsed": false
   },
   "outputs": [],
   "source": [
    "data.NONACA.unique()"
   ]
  },
  {
   "cell_type": "code",
   "execution_count": null,
   "metadata": {
    "collapsed": true
   },
   "outputs": [],
   "source": []
  }
 ],
 "metadata": {
  "kernelspec": {
   "display_name": "Python 2",
   "language": "python",
   "name": "python2"
  },
  "language_info": {
   "codemirror_mode": {
    "name": "ipython",
    "version": 2
   },
   "file_extension": ".py",
   "mimetype": "text/x-python",
   "name": "python",
   "nbconvert_exporter": "python",
   "pygments_lexer": "ipython2",
   "version": "2.7.11"
  }
 },
 "nbformat": 4,
 "nbformat_minor": 0
}
