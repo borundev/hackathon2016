{
 "cells": [
  {
   "cell_type": "code",
   "execution_count": 2,
   "metadata": {
    "collapsed": false
   },
   "outputs": [
    {
     "name": "stderr",
     "output_type": "stream",
     "text": [
      "/Users/borundev/anaconda/lib/python2.7/site-packages/matplotlib/font_manager.py:273: UserWarning: Matplotlib is building the font cache using fc-list. This may take a moment.\n",
      "  warnings.warn('Matplotlib is building the font cache using fc-list. This may take a moment.')\n"
     ]
    }
   ],
   "source": [
    "import numpy as np\n",
    "import pandas as pd\n",
    "import matplotlib.pyplot as plt\n",
    "%matplotlib inline\n",
    "import IPython.core.pylabtools as pylabtools # for figsize\n",
    "import seaborn as sns\n",
    "\n",
    "\n",
    "\n",
    "def mask_data(data,*args):\n",
    "    mask_and=np.array(args).all(0)\n",
    "    return data[mask_and]"
   ]
  },
  {
   "cell_type": "markdown",
   "metadata": {
    "collapsed": true
   },
   "source": [
    "## Time series analysis: No external data"
   ]
  },
  {
   "cell_type": "code",
   "execution_count": null,
   "metadata": {
    "collapsed": false
   },
   "outputs": [],
   "source": [
    "data=pd.read_csv(\"processed_data.csv\")\n",
    "data['date']=pd.to_datetime(data.date)"
   ]
  },
  {
   "cell_type": "code",
   "execution_count": null,
   "metadata": {
    "collapsed": false
   },
   "outputs": [],
   "source": [
    "# since we want to make a time series in hours we need to make each \"observation\" or row correspond to a unique \"hour\"\n",
    "\n",
    "data['delta_date']=(data.date-data.date[0])\n",
    "data['delta_date']=map(lambda x : x.days,data.delta_date)\n",
    "\n",
    "data['delta_time']=data.delta_date*24+data.time\n",
    "data['delta_time']=map(lambda x: int(x),data.delta_time)\n",
    "\n",
    "# since the original time includes minutes and we do not care about it we floor it\n",
    "data['time_bin']=map(lambda x: int(x),data.time)"
   ]
  },
  {
   "cell_type": "code",
   "execution_count": null,
   "metadata": {
    "collapsed": false
   },
   "outputs": [],
   "source": [
    "# fill in FIPMINTOTAL with mean for missing values\n",
    "data.loc[data.FIPMINTOTAL.isnull(),'FIPMINTOTAL']=data.FIPMINTOTAL.mean()"
   ]
  },
  {
   "cell_type": "markdown",
   "metadata": {},
   "source": [
    "## Dont run anything below this till the place a similar comment tells you to run"
   ]
  },
  {
   "cell_type": "code",
   "execution_count": null,
   "metadata": {
    "collapsed": false
   },
   "outputs": [],
   "source": [
    "# For a time series analysis we cannot use other variables not related to date (we could include time and make the \n",
    "# intervals in hours instead of day but ultimatel the only fundamental information). Of course we can later add variables\n",
    "# like the weather that are functions of the date\n",
    "\n",
    "# If we want to analyze locations  (u'SECT_GEO_PEC', u'SECT_GEO_2_PEC') for instance we will have to do individual time series\n",
    "# If we suspect cross correlations (and I don't) we could then look for those.\n",
    "\n",
    "\n",
    "# create a new data frame that has the total calls for given unique hour given by 'delta_time' i.e. number of hours\n",
    "# since the beginnning of the data set\n",
    "\n",
    "columns_to_use=['date','month','day','time_bin','delta_date','delta_time'] \n",
    "nd=pd.DataFrame({'total' : data.groupby( columns_to_use).size()}).reset_index()\n"
   ]
  },
  {
   "cell_type": "code",
   "execution_count": null,
   "metadata": {
    "collapsed": false
   },
   "outputs": [],
   "source": [
    "nd"
   ]
  },
  {
   "cell_type": "code",
   "execution_count": null,
   "metadata": {
    "collapsed": false
   },
   "outputs": [],
   "source": [
    "# since everything is identified by 'delta_time' we make it the index\n",
    "nd=nd.set_index('delta_time')\n",
    "\n",
    "# and since some data must be missing we need to reindex\n",
    "# when we include ambulance engagement we will need an extra date so +2 instead of +1\n",
    "nd=nd.reindex(range(nd.index.max()+2))\n",
    "\n",
    "# and check if something is missing\n",
    "nd.head()"
   ]
  },
  {
   "cell_type": "code",
   "execution_count": null,
   "metadata": {
    "collapsed": false
   },
   "outputs": [],
   "source": [
    "nd.tail()"
   ]
  },
  {
   "cell_type": "code",
   "execution_count": null,
   "metadata": {
    "collapsed": false
   },
   "outputs": [],
   "source": [
    "# we now fill in the empty rows date, month, day and time_bin all uniquely identified by the index which is delta_time\n",
    "\n",
    "start_date=nd.iloc[0].date\n",
    "\n",
    "for index in nd[pd.isnull(nd.date)].index:\n",
    "    nd.loc[index,'date']=start_date+pd.Timedelta(days=index/24)\n",
    "    nd.loc[index,'month']=nd.loc[index,'date'].month\n",
    "    nd.loc[index,'day']=pd.datetime.weekday(nd.loc[index,'date'])\n",
    "    nd.loc[index,'time_bin']=np.mod(index,24)\n",
    "\n",
    "nd['delta_date']=nd.index/24"
   ]
  },
  {
   "cell_type": "code",
   "execution_count": null,
   "metadata": {
    "collapsed": false
   },
   "outputs": [],
   "source": [
    "# Now we impute the missing values for total. This is NOT the best way to do it. We could take averages\n",
    "# based on week and time of day for instance\n",
    "\n",
    "nd.loc[nd.total.isnull(),'total']=int(nd.total.mean()) # should have a better way to impute\n",
    "\n",
    "# make sure the last row total is zero as it was added fictitiously (see above)\n",
    "nd.loc[87672,'total']=0"
   ]
  },
  {
   "cell_type": "code",
   "execution_count": null,
   "metadata": {
    "collapsed": false
   },
   "outputs": [],
   "source": [
    "# check that the missing values are filled\n",
    "nd.tail(10)"
   ]
  },
  {
   "cell_type": "code",
   "execution_count": null,
   "metadata": {
    "collapsed": false
   },
   "outputs": [],
   "source": [
    "# we drop delta_time and delta_date as we do not need them anymore. In principle we do not need 'date' anymore either\n",
    "# but we keep it just to make sure nothing has gotten scrambled at some later point\n",
    "nd=nd.reset_index()\n",
    "nd_cleaned=nd.drop(['delta_date'],axis=1)"
   ]
  },
  {
   "cell_type": "code",
   "execution_count": null,
   "metadata": {
    "collapsed": false
   },
   "outputs": [],
   "source": [
    "nd_cleaned.head()"
   ]
  },
  {
   "cell_type": "code",
   "execution_count": null,
   "metadata": {
    "collapsed": false
   },
   "outputs": [],
   "source": [
    "nd.month=nd.month.astype(int)\n",
    "nd.day=nd.day.astype(int)\n",
    "nd.time_bin=nd.time_bin.astype(int)"
   ]
  },
  {
   "cell_type": "code",
   "execution_count": null,
   "metadata": {
    "collapsed": true
   },
   "outputs": [],
   "source": [
    "# at this processed data so as not to have to do it again\n",
    "nd.to_csv(\"classification_by_hour_data.csv\",index=False)"
   ]
  },
  {
   "cell_type": "code",
   "execution_count": null,
   "metadata": {
    "collapsed": false
   },
   "outputs": [],
   "source": [
    "# if nothing is changed above we start from here\n",
    "nd=pd.read_csv(\"classification_by_hour_data.csv\")"
   ]
  },
  {
   "cell_type": "code",
   "execution_count": null,
   "metadata": {
    "collapsed": false
   },
   "outputs": [],
   "source": [
    "data[['time_bin','FIPMINTOTAL']].head()"
   ]
  },
  {
   "cell_type": "code",
   "execution_count": null,
   "metadata": {
    "collapsed": false
   },
   "outputs": [],
   "source": [
    "data['end_time_bin']=data['delta_time']+data.FIPMINTOTAL/60\n",
    "data['end_time_bin']=data['end_time_bin'].astype(int)"
   ]
  },
  {
   "cell_type": "code",
   "execution_count": null,
   "metadata": {
    "collapsed": false
   },
   "outputs": [],
   "source": [
    "data[['time_bin','FIPMINTOTAL','end_time_bin']].head()"
   ]
  },
  {
   "cell_type": "code",
   "execution_count": null,
   "metadata": {
    "collapsed": false
   },
   "outputs": [],
   "source": [
    "data.end_time_bin.describe()"
   ]
  },
  {
   "cell_type": "code",
   "execution_count": null,
   "metadata": {
    "collapsed": false
   },
   "outputs": [],
   "source": [
    "nd.delta_time.describe()"
   ]
  },
  {
   "cell_type": "code",
   "execution_count": null,
   "metadata": {
    "collapsed": false
   },
   "outputs": [],
   "source": [
    "nd['number_ambulances_engaged']=0\n",
    "nd['total_calls']=0\n",
    "print data.shape[0]\n",
    "\n",
    "for i in range(data.shape[0]):\n",
    "    if i % 1000==0:\n",
    "        print i\n",
    "    s=data.iloc[i].delta_time\n",
    "    e=data.iloc[i].end_time_bin\n",
    "    nd.loc[s,'total_calls']=nd.loc[s,'total_calls']+1\n",
    "    for k in range(s,e+1):\n",
    "        nd.loc[k,'number_ambulances_engaged']=nd.loc[k,'number_ambulances_engaged']+1"
   ]
  },
  {
   "cell_type": "code",
   "execution_count": null,
   "metadata": {
    "collapsed": false
   },
   "outputs": [],
   "source": [
    "1.0*np.sum(nd.number_ambulances_engaged<nd.total)/nd.shape[0] # how can this happen?"
   ]
  },
  {
   "cell_type": "code",
   "execution_count": null,
   "metadata": {
    "collapsed": false
   },
   "outputs": [],
   "source": [
    "nd.number_ambulances_engaged.describe()"
   ]
  },
  {
   "cell_type": "code",
   "execution_count": null,
   "metadata": {
    "collapsed": false
   },
   "outputs": [],
   "source": [
    "for i in range(87673):\n",
    "    if i%1000==0:\n",
    "        print i\n",
    "    nd.loc[i,'total_calls']=np.sum(data.delta_time==i)"
   ]
  },
  {
   "cell_type": "code",
   "execution_count": null,
   "metadata": {
    "collapsed": false
   },
   "outputs": [],
   "source": [
    "nd"
   ]
  },
  {
   "cell_type": "code",
   "execution_count": null,
   "metadata": {
    "collapsed": false
   },
   "outputs": [],
   "source": [
    "1.0*np.sum(nd.number_ambulances_engaged<nd.total_calls)/nd.shape[0] # how can this happen?"
   ]
  },
  {
   "cell_type": "code",
   "execution_count": null,
   "metadata": {
    "collapsed": true
   },
   "outputs": [],
   "source": [
    "# at this processed data so as not to have to do it again\n",
    "nd.to_csv(\"classification_by_hour_data_2.csv\",index=False)"
   ]
  },
  {
   "cell_type": "markdown",
   "metadata": {},
   "source": [
    "## Start running from here"
   ]
  },
  {
   "cell_type": "code",
   "execution_count": 40,
   "metadata": {
    "collapsed": false
   },
   "outputs": [
    {
     "data": {
      "text/html": [
       "<div>\n",
       "<table border=\"1\" class=\"dataframe\">\n",
       "  <thead>\n",
       "    <tr style=\"text-align: right;\">\n",
       "      <th></th>\n",
       "      <th>delta_time</th>\n",
       "      <th>date</th>\n",
       "      <th>month</th>\n",
       "      <th>day</th>\n",
       "      <th>time_bin</th>\n",
       "      <th>delta_date</th>\n",
       "      <th>total</th>\n",
       "      <th>number_ambulances_engaged</th>\n",
       "      <th>total_calls</th>\n",
       "    </tr>\n",
       "  </thead>\n",
       "  <tbody>\n",
       "    <tr>\n",
       "      <th>0</th>\n",
       "      <td>0</td>\n",
       "      <td>2004-01-01</td>\n",
       "      <td>1</td>\n",
       "      <td>3</td>\n",
       "      <td>0</td>\n",
       "      <td>0</td>\n",
       "      <td>6</td>\n",
       "      <td>6</td>\n",
       "      <td>6</td>\n",
       "    </tr>\n",
       "    <tr>\n",
       "      <th>1</th>\n",
       "      <td>1</td>\n",
       "      <td>2004-01-01</td>\n",
       "      <td>1</td>\n",
       "      <td>3</td>\n",
       "      <td>1</td>\n",
       "      <td>0</td>\n",
       "      <td>6</td>\n",
       "      <td>9</td>\n",
       "      <td>6</td>\n",
       "    </tr>\n",
       "    <tr>\n",
       "      <th>2</th>\n",
       "      <td>2</td>\n",
       "      <td>2004-01-01</td>\n",
       "      <td>1</td>\n",
       "      <td>3</td>\n",
       "      <td>2</td>\n",
       "      <td>0</td>\n",
       "      <td>2</td>\n",
       "      <td>3</td>\n",
       "      <td>2</td>\n",
       "    </tr>\n",
       "    <tr>\n",
       "      <th>3</th>\n",
       "      <td>3</td>\n",
       "      <td>2004-01-01</td>\n",
       "      <td>1</td>\n",
       "      <td>3</td>\n",
       "      <td>3</td>\n",
       "      <td>0</td>\n",
       "      <td>3</td>\n",
       "      <td>3</td>\n",
       "      <td>3</td>\n",
       "    </tr>\n",
       "    <tr>\n",
       "      <th>4</th>\n",
       "      <td>4</td>\n",
       "      <td>2004-01-01</td>\n",
       "      <td>1</td>\n",
       "      <td>3</td>\n",
       "      <td>4</td>\n",
       "      <td>0</td>\n",
       "      <td>2</td>\n",
       "      <td>2</td>\n",
       "      <td>2</td>\n",
       "    </tr>\n",
       "  </tbody>\n",
       "</table>\n",
       "</div>"
      ],
      "text/plain": [
       "   delta_time        date  month  day  time_bin  delta_date  total  \\\n",
       "0           0  2004-01-01      1    3         0           0      6   \n",
       "1           1  2004-01-01      1    3         1           0      6   \n",
       "2           2  2004-01-01      1    3         2           0      2   \n",
       "3           3  2004-01-01      1    3         3           0      3   \n",
       "4           4  2004-01-01      1    3         4           0      2   \n",
       "\n",
       "   number_ambulances_engaged  total_calls  \n",
       "0                          6            6  \n",
       "1                          9            6  \n",
       "2                          3            2  \n",
       "3                          3            3  \n",
       "4                          2            2  "
      ]
     },
     "execution_count": 40,
     "metadata": {},
     "output_type": "execute_result"
    }
   ],
   "source": [
    "nd=pd.read_csv(\"classification_by_hour_data_2.csv\")\n",
    "nd.head()"
   ]
  },
  {
   "cell_type": "code",
   "execution_count": 41,
   "metadata": {
    "collapsed": true
   },
   "outputs": [],
   "source": [
    "nd['total']=nd.number_ambulances_engaged # if we want total_calls change this to total calls\n",
    "nd_cleaned=nd"
   ]
  },
  {
   "cell_type": "code",
   "execution_count": 42,
   "metadata": {
    "collapsed": false
   },
   "outputs": [
    {
     "data": {
      "text/plain": [
       "<matplotlib.legend.Legend at 0x1110ebb10>"
      ]
     },
     "execution_count": 42,
     "metadata": {},
     "output_type": "execute_result"
    },
    {
     "data": {
      "image/png": "[encoded data removed]",
      "text/plain": [
       "<matplotlib.figure.Figure at 0x115e6de10>"
      ]
     },
     "metadata": {},
     "output_type": "display_data"
    }
   ],
   "source": [
    "# we plot the behavior of mean number of calls by the hour for weekdays and months\n",
    "\n",
    "pylabtools.figsize(15,5)\n",
    "plt.subplot(121)\n",
    "nd_mean=nd_cleaned.groupby(['day','time_bin']).mean().reset_index().drop('month',axis=1)\n",
    "for i in range(7):\n",
    "    data_masked=mask_data(nd_mean,nd_mean.day==i)\n",
    "    plt.plot(data_masked.time_bin,data_masked.total,\"-o\",label=\"day \"+str(i))\n",
    "plt.title(\"mean number of calls per hour for different days of week\")\n",
    "plt.legend()\n",
    "\n",
    "plt.subplot(122)\n",
    "nd_mean=nd_cleaned.groupby(['month','time_bin']).mean().reset_index().drop('day',axis=1)\n",
    "for i in range(1,13):\n",
    "    data_masked=mask_data(nd_mean,nd_mean.month==i)\n",
    "    plt.plot(data_masked.time_bin,data_masked.total,\"-o\",label=\"month \"+str(i))\n",
    "plt.title(\"mean number of calls per hour for different months\")\n",
    "plt.legend()"
   ]
  },
  {
   "cell_type": "code",
   "execution_count": 43,
   "metadata": {
    "collapsed": false
   },
   "outputs": [
    {
     "data": {
      "text/html": [
       "<div>\n",
       "<table border=\"1\" class=\"dataframe\">\n",
       "  <thead>\n",
       "    <tr style=\"text-align: right;\">\n",
       "      <th></th>\n",
       "      <th>month</th>\n",
       "      <th>day</th>\n",
       "      <th>time_bin</th>\n",
       "      <th>mu</th>\n",
       "    </tr>\n",
       "  </thead>\n",
       "  <tbody>\n",
       "    <tr>\n",
       "      <th>0</th>\n",
       "      <td>1</td>\n",
       "      <td>0</td>\n",
       "      <td>0</td>\n",
       "      <td>3.377778</td>\n",
       "    </tr>\n",
       "    <tr>\n",
       "      <th>1</th>\n",
       "      <td>1</td>\n",
       "      <td>0</td>\n",
       "      <td>1</td>\n",
       "      <td>3.088889</td>\n",
       "    </tr>\n",
       "    <tr>\n",
       "      <th>2</th>\n",
       "      <td>1</td>\n",
       "      <td>0</td>\n",
       "      <td>2</td>\n",
       "      <td>2.311111</td>\n",
       "    </tr>\n",
       "    <tr>\n",
       "      <th>3</th>\n",
       "      <td>1</td>\n",
       "      <td>0</td>\n",
       "      <td>3</td>\n",
       "      <td>1.733333</td>\n",
       "    </tr>\n",
       "    <tr>\n",
       "      <th>4</th>\n",
       "      <td>1</td>\n",
       "      <td>0</td>\n",
       "      <td>4</td>\n",
       "      <td>1.822222</td>\n",
       "    </tr>\n",
       "  </tbody>\n",
       "</table>\n",
       "</div>"
      ],
      "text/plain": [
       "   month  day  time_bin        mu\n",
       "0      1    0         0  3.377778\n",
       "1      1    0         1  3.088889\n",
       "2      1    0         2  2.311111\n",
       "3      1    0         3  1.733333\n",
       "4      1    0         4  1.822222"
      ]
     },
     "execution_count": 43,
     "metadata": {},
     "output_type": "execute_result"
    }
   ],
   "source": [
    "# we calculate a dataframe with this information\n",
    "nd_mean=nd_cleaned.groupby(['month','day','time_bin']).mean().reset_index().drop(['delta_time','delta_date','number_ambulances_engaged','total_calls'],axis=1)\n",
    "\n",
    "nd_mean.columns=['month','day','time_bin','mu']\n",
    "nd_mean.head()"
   ]
  },
  {
   "cell_type": "code",
   "execution_count": 44,
   "metadata": {
    "collapsed": false
   },
   "outputs": [],
   "source": [
    "# merge the two data frame\n",
    "nd_merged=nd_cleaned.merge(nd_mean,left_on=['month','day','time_bin'],right_on=['month','day','time_bin'])"
   ]
  },
  {
   "cell_type": "code",
   "execution_count": 45,
   "metadata": {
    "collapsed": false
   },
   "outputs": [
    {
     "data": {
      "text/html": [
       "<div>\n",
       "<table border=\"1\" class=\"dataframe\">\n",
       "  <thead>\n",
       "    <tr style=\"text-align: right;\">\n",
       "      <th></th>\n",
       "      <th>delta_time</th>\n",
       "      <th>time_bin</th>\n",
       "      <th>total</th>\n",
       "      <th>mu</th>\n",
       "    </tr>\n",
       "  </thead>\n",
       "  <tbody>\n",
       "    <tr>\n",
       "      <th>0</th>\n",
       "      <td>0</td>\n",
       "      <td>0</td>\n",
       "      <td>6</td>\n",
       "      <td>3.727273</td>\n",
       "    </tr>\n",
       "    <tr>\n",
       "      <th>1</th>\n",
       "      <td>1</td>\n",
       "      <td>1</td>\n",
       "      <td>9</td>\n",
       "      <td>3.431818</td>\n",
       "    </tr>\n",
       "    <tr>\n",
       "      <th>2</th>\n",
       "      <td>2</td>\n",
       "      <td>2</td>\n",
       "      <td>3</td>\n",
       "      <td>2.386364</td>\n",
       "    </tr>\n",
       "    <tr>\n",
       "      <th>3</th>\n",
       "      <td>3</td>\n",
       "      <td>3</td>\n",
       "      <td>3</td>\n",
       "      <td>2.045455</td>\n",
       "    </tr>\n",
       "    <tr>\n",
       "      <th>4</th>\n",
       "      <td>4</td>\n",
       "      <td>4</td>\n",
       "      <td>2</td>\n",
       "      <td>1.863636</td>\n",
       "    </tr>\n",
       "  </tbody>\n",
       "</table>\n",
       "</div>"
      ],
      "text/plain": [
       "   delta_time  time_bin  total        mu\n",
       "0           0         0      6  3.727273\n",
       "1           1         1      9  3.431818\n",
       "2           2         2      3  2.386364\n",
       "3           3         3      3  2.045455\n",
       "4           4         4      2  1.863636"
      ]
     },
     "execution_count": 45,
     "metadata": {},
     "output_type": "execute_result"
    }
   ],
   "source": [
    "# and see how it looks\n",
    "nd_merged.sort_values(by='delta_time',inplace=True)\n",
    "nd_merged.index=nd_merged.delta_time.values\n",
    "nd_merged[['delta_time','time_bin','total','mu']].head()"
   ]
  },
  {
   "cell_type": "code",
   "execution_count": 46,
   "metadata": {
    "collapsed": false
   },
   "outputs": [],
   "source": [
    "cond1=np.array([nd_merged.total.values>13,nd_merged.time_bin.values>=8,nd_merged.time_bin.values<20]).all(0)\n",
    "cond2=np.array([nd_merged.total.values>9,nd_merged.time_bin.values<8]).all(0)\n",
    "cond3=np.array([nd_merged.total.values>9,nd_merged.time_bin.values>=20]).all(0)\n",
    "combined_condition=np.array([cond1,cond2,cond3]).any(0)"
   ]
  },
  {
   "cell_type": "code",
   "execution_count": 47,
   "metadata": {
    "collapsed": false
   },
   "outputs": [
    {
     "data": {
      "text/plain": [
       "<matplotlib.axes._subplots.AxesSubplot at 0x1146ddcd0>"
      ]
     },
     "execution_count": 47,
     "metadata": {},
     "output_type": "execute_result"
    },
    {
     "data": {
      "image/png": "[encoded data removed]",
      "text/plain": [
       "<matplotlib.figure.Figure at 0x1119ccd10>"
      ]
     },
     "metadata": {},
     "output_type": "display_data"
    }
   ],
   "source": [
    "\n",
    "# another approach would be to ask if there is some persistance in the hours that see above average and those that see belo\n",
    "# this would be some ising model like clumpign of spins\n",
    "# we will try this\n",
    "\n",
    "\n",
    "nd_merged['busy']=(combined_condition).astype(int)\n",
    "\n",
    "# this gives about 15% of the days busy. if this doesn't 'feel' right we can reduce the threshold to increase\n",
    "# the number of days classified as busy\n",
    "nd_merged['busy'].hist(normed='True')"
   ]
  },
  {
   "cell_type": "code",
   "execution_count": 49,
   "metadata": {
    "collapsed": false,
    "scrolled": true
   },
   "outputs": [
    {
     "data": {
      "text/plain": [
       "<matplotlib.text.Text at 0x1172dded0>"
      ]
     },
     "execution_count": 49,
     "metadata": {},
     "output_type": "execute_result"
    },
    {
     "data": {
      "image/png": "[encoded data removed]",
      "text/plain": [
       "<matplotlib.figure.Figure at 0x115b19090>"
      ]
     },
     "metadata": {},
     "output_type": "display_data"
    }
   ],
   "source": [
    "# Now we can test Niquille's intuition. He seems to claim busy hours come in chunks. That should mean that there\n",
    "# should be correlations over the first few hours. \n",
    "\n",
    "\n",
    "pylabtools.figsize(15,5)\n",
    "plt.subplot(121)\n",
    "autocorrelations=pd.Series([nd_merged.busy.autocorr(lag=l) for l in range(24)])\n",
    "plt.plot(pd.rolling_mean(autocorrelations,1),\"-o\")\n",
    "plt.title(\"Auto correlation over 24 hours\")\n",
    "\n",
    "plt.subplot(122)\n",
    "autocorrelations=pd.Series([nd_merged.busy.autocorr(lag=l) for l in range(3*24)])\n",
    "plt.plot(pd.rolling_mean(autocorrelations,1),\"-o\")\n",
    "\n",
    "plt.title(\"Auto correlation over 3 days, see daily peaks\")"
   ]
  },
  {
   "cell_type": "code",
   "execution_count": 50,
   "metadata": {
    "collapsed": true
   },
   "outputs": [],
   "source": [
    "total_lag_hours=48\n",
    "for i in range(1,total_lag_hours+1):\n",
    "    nd_merged['lag'+str(i)]=nd_merged.busy.shift(i)\n",
    "\n",
    "cols=['lag'+str(i) for i in range(1,total_lag_hours+1) ]"
   ]
  },
  {
   "cell_type": "code",
   "execution_count": 51,
   "metadata": {
    "collapsed": true
   },
   "outputs": [],
   "source": [
    "# We cant use the first 'total_lag_days' as they do not have complete information accroding to the above model\n",
    "nd_final=nd_merged[total_lag_hours:]"
   ]
  },
  {
   "cell_type": "code",
   "execution_count": 135,
   "metadata": {
    "collapsed": false
   },
   "outputs": [
    {
     "data": {
      "text/html": [
       "<div>\n",
       "<table border=\"1\" class=\"dataframe\">\n",
       "  <thead>\n",
       "    <tr style=\"text-align: right;\">\n",
       "      <th></th>\n",
       "      <th>delta_time</th>\n",
       "      <th>date</th>\n",
       "      <th>month</th>\n",
       "      <th>day</th>\n",
       "      <th>time_bin</th>\n",
       "      <th>delta_date</th>\n",
       "      <th>total</th>\n",
       "      <th>number_ambulances_engaged</th>\n",
       "      <th>total_calls</th>\n",
       "      <th>mu</th>\n",
       "      <th>...</th>\n",
       "      <th>lag39</th>\n",
       "      <th>lag40</th>\n",
       "      <th>lag41</th>\n",
       "      <th>lag42</th>\n",
       "      <th>lag43</th>\n",
       "      <th>lag44</th>\n",
       "      <th>lag45</th>\n",
       "      <th>lag46</th>\n",
       "      <th>lag47</th>\n",
       "      <th>lag48</th>\n",
       "    </tr>\n",
       "  </thead>\n",
       "  <tbody>\n",
       "    <tr>\n",
       "      <th>48</th>\n",
       "      <td>48</td>\n",
       "      <td>2004-01-03</td>\n",
       "      <td>1</td>\n",
       "      <td>5</td>\n",
       "      <td>0</td>\n",
       "      <td>2</td>\n",
       "      <td>4</td>\n",
       "      <td>4</td>\n",
       "      <td>1</td>\n",
       "      <td>4.288889</td>\n",
       "      <td>...</td>\n",
       "      <td>0</td>\n",
       "      <td>0</td>\n",
       "      <td>0</td>\n",
       "      <td>0</td>\n",
       "      <td>0</td>\n",
       "      <td>0</td>\n",
       "      <td>0</td>\n",
       "      <td>0</td>\n",
       "      <td>0</td>\n",
       "      <td>0</td>\n",
       "    </tr>\n",
       "    <tr>\n",
       "      <th>49</th>\n",
       "      <td>49</td>\n",
       "      <td>2004-01-03</td>\n",
       "      <td>1</td>\n",
       "      <td>5</td>\n",
       "      <td>1</td>\n",
       "      <td>2</td>\n",
       "      <td>3</td>\n",
       "      <td>3</td>\n",
       "      <td>2</td>\n",
       "      <td>3.888889</td>\n",
       "      <td>...</td>\n",
       "      <td>0</td>\n",
       "      <td>0</td>\n",
       "      <td>0</td>\n",
       "      <td>0</td>\n",
       "      <td>0</td>\n",
       "      <td>0</td>\n",
       "      <td>0</td>\n",
       "      <td>0</td>\n",
       "      <td>0</td>\n",
       "      <td>0</td>\n",
       "    </tr>\n",
       "    <tr>\n",
       "      <th>50</th>\n",
       "      <td>50</td>\n",
       "      <td>2004-01-03</td>\n",
       "      <td>1</td>\n",
       "      <td>5</td>\n",
       "      <td>2</td>\n",
       "      <td>2</td>\n",
       "      <td>2</td>\n",
       "      <td>2</td>\n",
       "      <td>1</td>\n",
       "      <td>3.000000</td>\n",
       "      <td>...</td>\n",
       "      <td>0</td>\n",
       "      <td>0</td>\n",
       "      <td>0</td>\n",
       "      <td>0</td>\n",
       "      <td>0</td>\n",
       "      <td>0</td>\n",
       "      <td>0</td>\n",
       "      <td>0</td>\n",
       "      <td>0</td>\n",
       "      <td>0</td>\n",
       "    </tr>\n",
       "    <tr>\n",
       "      <th>51</th>\n",
       "      <td>51</td>\n",
       "      <td>2004-01-03</td>\n",
       "      <td>1</td>\n",
       "      <td>5</td>\n",
       "      <td>3</td>\n",
       "      <td>2</td>\n",
       "      <td>2</td>\n",
       "      <td>2</td>\n",
       "      <td>0</td>\n",
       "      <td>2.244444</td>\n",
       "      <td>...</td>\n",
       "      <td>0</td>\n",
       "      <td>0</td>\n",
       "      <td>0</td>\n",
       "      <td>0</td>\n",
       "      <td>0</td>\n",
       "      <td>0</td>\n",
       "      <td>0</td>\n",
       "      <td>0</td>\n",
       "      <td>0</td>\n",
       "      <td>0</td>\n",
       "    </tr>\n",
       "    <tr>\n",
       "      <th>52</th>\n",
       "      <td>52</td>\n",
       "      <td>2004-01-03</td>\n",
       "      <td>1</td>\n",
       "      <td>5</td>\n",
       "      <td>4</td>\n",
       "      <td>2</td>\n",
       "      <td>1</td>\n",
       "      <td>1</td>\n",
       "      <td>0</td>\n",
       "      <td>2.266667</td>\n",
       "      <td>...</td>\n",
       "      <td>0</td>\n",
       "      <td>0</td>\n",
       "      <td>0</td>\n",
       "      <td>0</td>\n",
       "      <td>0</td>\n",
       "      <td>0</td>\n",
       "      <td>0</td>\n",
       "      <td>0</td>\n",
       "      <td>0</td>\n",
       "      <td>0</td>\n",
       "    </tr>\n",
       "  </tbody>\n",
       "</table>\n",
       "<p>5 rows × 59 columns</p>\n",
       "</div>"
      ],
      "text/plain": [
       "    delta_time        date  month  day  time_bin  delta_date  total  \\\n",
       "48          48  2004-01-03      1    5         0           2      4   \n",
       "49          49  2004-01-03      1    5         1           2      3   \n",
       "50          50  2004-01-03      1    5         2           2      2   \n",
       "51          51  2004-01-03      1    5         3           2      2   \n",
       "52          52  2004-01-03      1    5         4           2      1   \n",
       "\n",
       "    number_ambulances_engaged  total_calls        mu  ...    lag39  lag40  \\\n",
       "48                          4            1  4.288889  ...        0      0   \n",
       "49                          3            2  3.888889  ...        0      0   \n",
       "50                          2            1  3.000000  ...        0      0   \n",
       "51                          2            0  2.244444  ...        0      0   \n",
       "52                          1            0  2.266667  ...        0      0   \n",
       "\n",
       "    lag41  lag42  lag43  lag44  lag45  lag46  lag47  lag48  \n",
       "48      0      0      0      0      0      0      0      0  \n",
       "49      0      0      0      0      0      0      0      0  \n",
       "50      0      0      0      0      0      0      0      0  \n",
       "51      0      0      0      0      0      0      0      0  \n",
       "52      0      0      0      0      0      0      0      0  \n",
       "\n",
       "[5 rows x 59 columns]"
      ]
     },
     "execution_count": 135,
     "metadata": {},
     "output_type": "execute_result"
    }
   ],
   "source": [
    "nd_final.head()"
   ]
  },
  {
   "cell_type": "code",
   "execution_count": 53,
   "metadata": {
    "collapsed": false
   },
   "outputs": [],
   "source": [
    "y=nd_final.busy.values"
   ]
  },
  {
   "cell_type": "code",
   "execution_count": 54,
   "metadata": {
    "collapsed": false
   },
   "outputs": [],
   "source": [
    "numerical_cols=[]\n",
    "catecorical_cols=cols+['day','month','time_bin']\n",
    "X_numerical=nd_final[numerical_cols].values\n",
    "X_categorical=nd_final[catecorical_cols].values"
   ]
  },
  {
   "cell_type": "code",
   "execution_count": 55,
   "metadata": {
    "collapsed": false
   },
   "outputs": [],
   "source": [
    "from sklearn.preprocessing import OneHotEncoder\n",
    "enc=OneHotEncoder()\n",
    "enc.fit(X_categorical)\n",
    "X_categorical=enc.transform(X_categorical).toarray()"
   ]
  },
  {
   "cell_type": "code",
   "execution_count": 56,
   "metadata": {
    "collapsed": false
   },
   "outputs": [],
   "source": [
    "X=np.hstack((X_numerical,X_categorical))"
   ]
  },
  {
   "cell_type": "code",
   "execution_count": 57,
   "metadata": {
    "collapsed": false
   },
   "outputs": [],
   "source": [
    "from sklearn.cross_validation import train_test_split"
   ]
  },
  {
   "cell_type": "code",
   "execution_count": 74,
   "metadata": {
    "collapsed": false
   },
   "outputs": [],
   "source": [
    "X_train, X_test, y_train, y_test = train_test_split(X, y, test_size=0.33, random_state=42)"
   ]
  },
  {
   "cell_type": "code",
   "execution_count": 122,
   "metadata": {
    "collapsed": false
   },
   "outputs": [],
   "source": [
    "from sklearn.ensemble import ExtraTreesClassifier,GradientBoostingClassifier\n",
    "from xgboost.sklearn import XGBClassifier\n",
    "from sklearn.linear_model import LogisticRegression\n",
    "from sklearn.svm import SVC"
   ]
  },
  {
   "cell_type": "code",
   "execution_count": 129,
   "metadata": {
    "collapsed": false
   },
   "outputs": [
    {
     "data": {
      "text/plain": [
       "XGBClassifier(base_score=0.5, colsample_bylevel=1, colsample_bytree=1,\n",
       "       gamma=0, learning_rate=0.1, max_delta_step=0, max_depth=5,\n",
       "       min_child_weight=1, missing=None, n_estimators=1000, nthread=-1,\n",
       "       objective='binary:logistic', reg_alpha=0, reg_lambda=1,\n",
       "       scale_pos_weight=1, seed=0, silent=True, subsample=1)"
      ]
     },
     "execution_count": 129,
     "metadata": {},
     "output_type": "execute_result"
    }
   ],
   "source": [
    "clf=XGBClassifier(n_estimators=1000,learning_rate =0.1,max_depth=5)\n",
    "#clf=LogisticRegression()\n",
    "#clf=SVC()\n",
    "clf.fit(X_train,y_train)"
   ]
  },
  {
   "cell_type": "code",
   "execution_count": 130,
   "metadata": {
    "collapsed": false
   },
   "outputs": [],
   "source": [
    "y_pred_rt = clf.predict_proba(X_test)[:, 1]"
   ]
  },
  {
   "cell_type": "code",
   "execution_count": 131,
   "metadata": {
    "collapsed": false
   },
   "outputs": [],
   "source": [
    "from sklearn.metrics import roc_curve, roc_auc_score\n",
    "fpr_rt_lm, tpr_rt_lm, _ = roc_curve(y_test, y_pred_rt)"
   ]
  },
  {
   "cell_type": "code",
   "execution_count": 132,
   "metadata": {
    "collapsed": false
   },
   "outputs": [
    {
     "data": {
      "text/plain": [
       "<matplotlib.text.Text at 0x13b4ea0d0>"
      ]
     },
     "execution_count": 132,
     "metadata": {},
     "output_type": "execute_result"
    },
    {
     "data": {
      "image/png": "[encoded data removed]",
      "text/plain": [
       "<matplotlib.figure.Figure at 0x11802f1d0>"
      ]
     },
     "metadata": {},
     "output_type": "display_data"
    }
   ],
   "source": [
    "pylabtools.figsize(15,5)\n",
    "\n",
    "plt.subplot(131)\n",
    "plt.plot(fpr_rt_lm, tpr_rt_lm)\n",
    "plt.xlabel('False positive rate')\n",
    "plt.ylabel('True positive rate')\n",
    "plt.title(\"ROC score = \"+str(roc_auc_score(y_test, y_pred_rt)))\n",
    "plt.subplot(132)\n",
    "plt.plot(np.linspace(0,1,fpr_rt_lm.shape[0]),fpr_rt_lm)\n",
    "plt.ylabel('False positive rate')\n",
    "plt.subplot(133)\n",
    "plt.plot(np.linspace(0,1,fpr_rt_lm.shape[0]),tpr_rt_lm)\n",
    "plt.ylabel('True positive rate')"
   ]
  },
  {
   "cell_type": "code",
   "execution_count": 80,
   "metadata": {
    "collapsed": false
   },
   "outputs": [
    {
     "data": {
      "text/plain": [
       "(array([ 153.,  118.,   11.,    3.,    4.,    2.,    2.,  133.,  123.,\n",
       "         388.,  829.,  793.,  582.,  413.,  377.,  355.,  276.,  173.,\n",
       "          98.,   24.,  195.,   93.,   48.,   26.]),\n",
       " array([  0.        ,   0.95833333,   1.91666667,   2.875     ,\n",
       "          3.83333333,   4.79166667,   5.75      ,   6.70833333,\n",
       "          7.66666667,   8.625     ,   9.58333333,  10.54166667,\n",
       "         11.5       ,  12.45833333,  13.41666667,  14.375     ,\n",
       "         15.33333333,  16.29166667,  17.25      ,  18.20833333,\n",
       "         19.16666667,  20.125     ,  21.08333333,  22.04166667,  23.        ]),\n",
       " <a list of 24 Patch objects>)"
      ]
     },
     "execution_count": 80,
     "metadata": {},
     "output_type": "execute_result"
    },
    {
     "data": {
      "image/png": "[encoded data removed]",
      "text/plain": [
       "<matplotlib.figure.Figure at 0x117574b50>"
      ]
     },
     "metadata": {},
     "output_type": "display_data"
    }
   ],
   "source": [
    "plt.hist(nd_final[nd_final.busy==1].time_bin,bins=24)"
   ]
  },
  {
   "cell_type": "code",
   "execution_count": 91,
   "metadata": {
    "collapsed": false
   },
   "outputs": [
    {
     "data": {
      "text/plain": [
       "array([[26081,  1147],\n",
       "       [  708,   981]])"
      ]
     },
     "execution_count": 91,
     "metadata": {},
     "output_type": "execute_result"
    }
   ],
   "source": [
    "from sklearn.metrics import confusion_matrix\n",
    "confusion_matrix(y_test,np.where(y_pred_rt>.18,1,0))"
   ]
  },
  {
   "cell_type": "code",
   "execution_count": 93,
   "metadata": {
    "collapsed": false
   },
   "outputs": [
    {
     "data": {
      "text/plain": [
       "0.5808170515097691"
      ]
     },
     "execution_count": 93,
     "metadata": {},
     "output_type": "execute_result"
    }
   ],
   "source": [
    "1.0*confusion_matrix(y_test,np.where(y_pred_rt>.18,1,0))[1,1]/np.sum(y_test==1) ## true positive rate"
   ]
  },
  {
   "cell_type": "code",
   "execution_count": 95,
   "metadata": {
    "collapsed": false
   },
   "outputs": [
    {
     "data": {
      "text/plain": [
       "0.957874247098575"
      ]
     },
     "execution_count": 95,
     "metadata": {},
     "output_type": "execute_result"
    }
   ],
   "source": [
    "1.0*confusion_matrix(y_test,np.where(y_pred_rt>.18,1,0))[0,0]/np.sum(y_test==0) ## true negative rate"
   ]
  },
  {
   "cell_type": "code",
   "execution_count": 141,
   "metadata": {
    "collapsed": false
   },
   "outputs": [
    {
     "data": {
      "text/plain": [
       "SpearmanrResult(correlation=0.45722925104382889, pvalue=0.0)"
      ]
     },
     "execution_count": 141,
     "metadata": {},
     "output_type": "execute_result"
    }
   ],
   "source": [
    "a=nd_final.busy[1:]\n",
    "b=nd_final.busy[:-1]\n",
    "\n",
    "from scipy.stats import spearmanr\n",
    "\n",
    "spearmanr(a,b)"
   ]
  },
  {
   "cell_type": "code",
   "execution_count": null,
   "metadata": {
    "collapsed": true
   },
   "outputs": [],
   "source": []
  }
 ],
 "metadata": {
  "kernelspec": {
   "display_name": "Python 2",
   "language": "python",
   "name": "python2"
  },
  "language_info": {
   "codemirror_mode": {
    "name": "ipython",
    "version": 2
   },
   "file_extension": ".py",
   "mimetype": "text/x-python",
   "name": "python",
   "nbconvert_exporter": "python",
   "pygments_lexer": "ipython2",
   "version": "2.7.11"
  }
 },
 "nbformat": 4,
 "nbformat_minor": 0
}
